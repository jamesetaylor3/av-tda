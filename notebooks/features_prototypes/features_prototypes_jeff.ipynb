{
 "cells": [
  {
   "cell_type": "code",
   "execution_count": 1,
   "metadata": {},
   "outputs": [],
   "source": [
    "import numpy as np\n",
    "\n",
    "from l5kit.configs import load_config_data\n",
    "from l5kit.data import LocalDataManager, ChunkedDataset\n",
    "from l5kit.dataset import AgentDataset\n",
    "from l5kit.rasterization import build_rasterizer\n",
    "\n",
    "import os"
   ]
  },
  {
   "cell_type": "code",
   "execution_count": 2,
   "metadata": {},
   "outputs": [
    {
     "name": "stdout",
     "output_type": "stream",
     "text": [
      "{'format_version': 4, 'model_params': {'model_architecture': 'resnet50', 'history_num_frames': 0, 'history_step_size': 1, 'history_delta_time': 0.1, 'future_num_frames': 50, 'future_step_size': 1, 'future_delta_time': 0.1}, 'raster_params': {'raster_size': [224, 224], 'pixel_size': [0.5, 0.5], 'ego_center': [0.25, 0.5], 'map_type': 'py_semantic', 'satellite_map_key': 'aerial_map/aerial_map.png', 'semantic_map_key': 'semantic_map/semantic_map.pb', 'dataset_meta_key': 'meta.json', 'filter_agents_threshold': 0.5, 'disable_traffic_light_faces': False}, 'train_data_loader': {'key': 'scenes/sample.zarr', 'batch_size': 12, 'shuffle': True, 'num_workers': 16}, 'val_data_loader': {'key': 'scenes/sample.zarr', 'batch_size': 12, 'shuffle': False, 'num_workers': 16}, 'train_params': {'checkpoint_every_n_steps': 10000, 'max_num_steps': 5, 'eval_every_n_steps': 10000}}\n"
     ]
    }
   ],
   "source": [
    "os.environ['L5KIT_DATA_FOLDER'] = '../../dataset'\n",
    "dm = LocalDataManager(None)\n",
    "\n",
    "cfg = load_config_data('./config.yaml')\n",
    "print(cfg)"
   ]
  },
  {
   "cell_type": "code",
   "execution_count": 3,
   "metadata": {},
   "outputs": [],
   "source": [
    "train_cfg = cfg['train_data_loader']\n",
    "rasterizer = build_rasterizer(cfg, dm)\n",
    "train_zarr = ChunkedDataset(dm.require(train_cfg['key'])).open()"
   ]
  },
  {
   "cell_type": "code",
   "execution_count": 61,
   "metadata": {},
   "outputs": [],
   "source": [
    "scenes = train_zarr.scenes\n",
    "frames = train_zarr.frames\n",
    "agents = train_zarr.agents"
   ]
  },
  {
   "cell_type": "code",
   "execution_count": 224,
   "metadata": {
    "scrolled": true
   },
   "outputs": [
    {
     "name": "stderr",
     "output_type": "stream",
     "text": [
      "\r",
      "  0%|                                                  | 0/248 [00:00<?, ?it/s]"
     ]
    },
    {
     "name": "stdout",
     "output_type": "stream",
     "text": [
      "[ 6.65034241e+02 -2.20751221e+03  0.00000000e+00  0.00000000e+00\n",
      "  1.01667511e+00]\n",
      "[ 7.17661255e+02 -2.17376001e+03  0.00000000e+00  0.00000000e+00\n",
      " -7.83223987e-01]\n",
      "[ 7.30681396e+02 -2.18067896e+03  0.00000000e+00  0.00000000e+00\n",
      " -3.21747005e-01]\n",
      "[ 6.71253601e+02 -2.20474536e+03  0.00000000e+00  0.00000000e+00\n",
      "  7.85500944e-01]\n",
      "[ 6.69776306e+02 -2.21300464e+03  0.00000000e+00  0.00000000e+00\n",
      "  1.49235928e+00]\n",
      "[ 6.72436829e+02 -2.20317310e+03  0.00000000e+00  0.00000000e+00\n",
      "  1.09966016e+00]\n",
      "[ 6.73497009e+02 -2.20222412e+03  0.00000000e+00  0.00000000e+00\n",
      "  7.06961155e-01]\n",
      "[ 6.74934570e+02 -2.19954907e+03  0.00000000e+00  0.00000000e+00\n",
      "  7.85500944e-01]\n",
      "[ 6.76894043e+02 -2.19582983e+03  0.00000000e+00  0.00000000e+00\n",
      "  9.42580581e-01]\n",
      "[ 6.80792969e+02 -2.19676001e+03  0.00000000e+00  0.00000000e+00\n",
      "  7.85500944e-01]\n",
      "[ 6.81160950e+02 -2.19037305e+03  0.00000000e+00  0.00000000e+00\n",
      "  1.02787657e-04]\n",
      "[ 6.86068909e+02 -2.18283545e+03  0.00000000e+00  0.00000000e+00\n",
      "  1.57182425e-01]\n",
      "[ 7.13808777e+02 -2.17441382e+03  0.00000000e+00  0.00000000e+00\n",
      "  1.57182425e-01]\n",
      "[ 6.86876587e+02 -2.18153955e+03  0.00000000e+00  0.00000000e+00\n",
      "  2.35722244e-01]\n",
      "[ 6.90985596e+02 -2.18158911e+03  0.00000000e+00  0.00000000e+00\n",
      "  6.28421307e-01]\n",
      "[ 6.87907654e+02 -2.17949976e+03  0.00000000e+00  0.00000000e+00\n",
      "  2.35722244e-01]\n",
      "[ 6.94697632e+02 -2.17546362e+03  0.00000000e+00  0.00000000e+00\n",
      "  1.02112043e+00]\n",
      "[ 6.91476990e+02 -2.17449512e+03  0.00000000e+00  0.00000000e+00\n",
      "  1.41381943e+00]\n",
      "[ 7.02456116e+02 -2.16429248e+03  0.00000000e+00  0.00000000e+00\n",
      "  7.06961155e-01]\n",
      "[ 6.89942505e+02 -2.14841699e+03  0.00000000e+00  0.00000000e+00\n",
      "  3.14262062e-01]\n",
      "[ 6.86204224e+02 -2.15762134e+03  0.00000000e+00  0.00000000e+00\n",
      "  1.49235928e+00]\n",
      "[ 6.84945679e+02 -2.15452466e+03  0.00000000e+00  0.00000000e+00\n",
      "  1.49235928e+00]\n",
      "[ 6.84143616e+02 -2.15572510e+03  0.00000000e+00  0.00000000e+00\n",
      "  6.28421307e-01]\n",
      "[ 6.79965637e+02 -2.15976172e+03  0.00000000e+00  0.00000000e+00\n",
      "  1.09966016e+00]\n",
      "[ 6.77925537e+02 -2.16649512e+03  0.00000000e+00  0.00000000e+00\n",
      "  1.02112043e+00]\n",
      "[ 6.72889954e+02 -2.17003467e+03  0.00000000e+00  0.00000000e+00\n",
      "  6.28421307e-01]\n",
      "[ 6.67815125e+02 -2.17772363e+03  0.00000000e+00  0.00000000e+00\n",
      "  1.33527970e+00]\n",
      "[ 6.71422119e+02 -2.18091064e+03 -1.11225224e+00 -1.94361997e+00\n",
      "  1.09370649e+00]\n",
      "[ 6.68492920e+02 -2.18154956e+03  0.00000000e+00  0.00000000e+00\n",
      "  7.85500944e-01]\n",
      "[ 6.69471924e+02 -2.18337891e+03  0.00000000e+00  0.00000000e+00\n",
      "  4.71341699e-01]\n",
      "[ 6.67482849e+02 -2.18364111e+03  0.00000000e+00  0.00000000e+00\n",
      "  4.71341699e-01]\n"
     ]
    },
    {
     "name": "stderr",
     "output_type": "stream",
     "text": [
      "\r",
      "  0%|▏                                         | 1/248 [00:00<02:32,  1.61it/s]"
     ]
    },
    {
     "name": "stdout",
     "output_type": "stream",
     "text": [
      "[ 6.65342224e+02 -2.18562500e+03  0.00000000e+00  0.00000000e+00\n",
      "  1.02787657e-04]\n",
      "[ 6.65206726e+02 -2.18931250e+03  0.00000000e+00  0.00000000e+00\n",
      "  1.41381943e+00]\n",
      "[ 6.59792603e+02 -2.19446484e+03  0.00000000e+00  0.00000000e+00\n",
      "  1.17820001e+00]\n",
      "[ 6.53352356e+02 -2.20055225e+03  0.00000000e+00  0.00000000e+00\n",
      "  3.92801881e-01]\n",
      "[ 6.50314636e+02 -2.20477124e+03  0.00000000e+00  0.00000000e+00\n",
      "  1.02112043e+00]\n",
      "[ 6.52240845e+02 -2.20357812e+03  0.00000000e+00  0.00000000e+00\n",
      "  8.64040792e-01]\n",
      "[ 6.51329224e+02 -2.20823950e+03  0.00000000e+00  0.00000000e+00\n",
      "  9.42580581e-01]\n",
      "[ 6.66996460e+02 -2.20495605e+03  0.00000000e+00  0.00000000e+00\n",
      "  9.86888647e-01]\n",
      "[ 7.17612366e+02 -2.17477197e+03  0.00000000e+00  0.00000000e+00\n",
      " -7.86870778e-01]\n",
      "[ 7.30951904e+02 -2.18078564e+03  7.31845856e-01 -2.17139363e-01\n",
      " -3.21749777e-01]\n",
      "[ 6.71245422e+02 -2.20473999e+03  0.00000000e+00  0.00000000e+00\n",
      "  7.85521984e-01]\n",
      "[ 6.69768311e+02 -2.21299951e+03  0.00000000e+00  0.00000000e+00\n",
      "  1.49238026e+00]\n",
      "[ 6.72428589e+02 -2.20316772e+03  0.00000000e+00  0.00000000e+00\n",
      "  1.09968126e+00]\n",
      "[ 6.73488831e+02 -2.20221875e+03  0.00000000e+00  0.00000000e+00\n",
      "  7.06982136e-01]\n",
      "[ 6.74926331e+02 -2.19954370e+03  0.00000000e+00  0.00000000e+00\n",
      "  7.85521984e-01]\n",
      "[ 6.76885620e+02 -2.19582446e+03  0.00000000e+00  0.00000000e+00\n",
      "  9.42601621e-01]\n",
      "[ 6.80784607e+02 -2.19675439e+03  0.00000000e+00  0.00000000e+00\n",
      "  7.85521984e-01]\n",
      "[ 6.81152466e+02 -2.19036743e+03  0.00000000e+00  0.00000000e+00\n",
      "  1.23804799e-04]\n",
      "[ 6.86060242e+02 -2.18282983e+03  0.00000000e+00  0.00000000e+00\n",
      "  1.57203436e-01]\n",
      "[ 7.13799988e+02 -2.17440747e+03  0.00000000e+00  0.00000000e+00\n",
      "  1.57203436e-01]\n",
      "[ 6.86867920e+02 -2.18153394e+03  0.00000000e+00  0.00000000e+00\n",
      "  2.35743254e-01]\n",
      "[ 6.90976929e+02 -2.18158325e+03  0.00000000e+00  0.00000000e+00\n",
      "  6.28442347e-01]\n",
      "[ 6.87898926e+02 -2.17949414e+03  0.00000000e+00  0.00000000e+00\n",
      "  2.35743254e-01]\n",
      "[ 6.94688843e+02 -2.17545801e+03  0.00000000e+00  0.00000000e+00\n",
      "  1.02114141e+00]\n",
      "[ 6.91103333e+02 -2.17432666e+03 -2.35212564e+00  1.04878604e+00\n",
      "  1.64453602e+00]\n",
      "[ 7.02447083e+02 -2.16428662e+03  0.00000000e+00  0.00000000e+00\n",
      "  7.06982136e-01]\n",
      "[ 6.89933167e+02 -2.14841113e+03  0.00000000e+00  0.00000000e+00\n",
      "  3.14283073e-01]\n",
      "[ 6.86195068e+02 -2.15761572e+03  0.00000000e+00  0.00000000e+00\n",
      "  1.49238026e+00]\n",
      "[ 6.84936462e+02 -2.15451929e+03  0.00000000e+00  0.00000000e+00\n",
      "  1.49238026e+00]\n",
      "[ 6.84134399e+02 -2.15571948e+03  0.00000000e+00  0.00000000e+00\n",
      "  6.28442347e-01]\n",
      "[ 6.79956482e+02 -2.15975635e+03  0.00000000e+00  0.00000000e+00\n",
      "  1.09968126e+00]\n",
      "[ 6.77916565e+02 -2.16648975e+03  0.00000000e+00  0.00000000e+00\n",
      "  1.02114141e+00]\n",
      "[ 6.72881042e+02 -2.17002930e+03  0.00000000e+00  0.00000000e+00\n",
      "  6.28442347e-01]\n",
      "[ 6.67806396e+02 -2.17771826e+03  0.00000000e+00  0.00000000e+00\n",
      "  1.33530068e+00]\n",
      "[ 6.71251709e+02 -2.18113354e+03 -1.54863954e+00 -2.23863506e+00\n",
      "  1.09705198e+00]\n",
      "[ 6.68484253e+02 -2.18154443e+03  0.00000000e+00  0.00000000e+00\n",
      "  7.85521984e-01]\n",
      "[ 6.67474243e+02 -2.18363599e+03  0.00000000e+00  0.00000000e+00\n",
      "  4.71362710e-01]\n",
      "[ 6.65333679e+02 -2.18561987e+03  0.00000000e+00  0.00000000e+00\n",
      "  1.23804799e-04]\n",
      "[ 6.65205811e+02 -2.18926123e+03  6.98600784e-02  4.26550865e-01\n",
      "  1.41384053e+00]\n",
      "[ 6.59784241e+02 -2.19445972e+03  0.00000000e+00  0.00000000e+00\n",
      "  1.17822111e+00]\n",
      "[ 6.53344055e+02 -2.20054736e+03  0.00000000e+00  0.00000000e+00\n",
      "  3.92822891e-01]\n"
     ]
    },
    {
     "name": "stderr",
     "output_type": "stream",
     "text": [
      "\r",
      "  1%|▎                                         | 2/248 [00:01<02:29,  1.64it/s]"
     ]
    },
    {
     "name": "stdout",
     "output_type": "stream",
     "text": [
      "[ 6.50306458e+02 -2.20476636e+03  0.00000000e+00  0.00000000e+00\n",
      "  1.02114141e+00]\n",
      "[ 6.52232605e+02 -2.20357324e+03  0.00000000e+00  0.00000000e+00\n",
      "  8.64061773e-01]\n",
      "[ 6.51289551e+02 -2.20820557e+03 -3.00334066e-01  2.76749045e-01\n",
      "  1.20082581e+00]\n",
      "[ 6.82873901e+02 -2.18756421e+03  0.00000000e+00  0.00000000e+00\n",
      "  7.85521984e-01]\n",
      "[ 7.12124878e+02 -2.17287769e+03  0.00000000e+00  0.00000000e+00\n",
      "  1.02114141e+00]\n",
      "[ 7.11772705e+02 -2.15066919e+03 -1.23319831e-02 -7.79235139e-02\n",
      "  1.41384053e+00]\n",
      "[ 7.08401978e+02 -2.15278491e+03  0.00000000e+00  0.00000000e+00\n",
      "  1.09968126e+00]\n",
      "[ 7.08872375e+02 -2.15219775e+03  0.00000000e+00  0.00000000e+00\n",
      "  1.57203436e-01]\n",
      "[ 6.71257202e+02 -2.17403027e+03  0.00000000e+00  0.00000000e+00\n",
      "  4.71362710e-01]\n",
      "[ 6.70792664e+02 -2.17779663e+03  0.00000000e+00  0.00000000e+00\n",
      "  1.25676084e+00]\n",
      "[ 6.69330505e+02 -2.18326074e+03  0.00000000e+00  0.00000000e+00\n",
      "  1.25676084e+00]\n",
      "[ 6.61773376e+02 -2.18863062e+03  0.00000000e+00  0.00000000e+00\n",
      "  7.06982136e-01]\n",
      "[ 6.54455078e+02 -2.19891675e+03  0.00000000e+00  0.00000000e+00\n",
      "  1.25676084e+00]\n",
      "[ 6.67037415e+02 -2.20488232e+03  2.35175833e-01  3.72672290e-01\n",
      "  1.00789452e+00]\n",
      "[ 7.17617798e+02 -2.17476514e+03  0.00000000e+00  0.00000000e+00\n",
      " -7.86849439e-01]\n",
      "[ 7.31030457e+02 -2.18080054e+03  7.31851935e-01 -2.17124164e-01\n",
      " -3.21728766e-01]\n",
      "[ 6.71251465e+02 -2.20473438e+03  0.00000000e+00  0.00000000e+00\n",
      "  7.85543323e-01]\n",
      "[ 6.69774536e+02 -2.21299365e+03  0.00000000e+00  0.00000000e+00\n",
      "  1.49240172e+00]\n",
      "[ 6.72434631e+02 -2.20316187e+03  0.00000000e+00  0.00000000e+00\n",
      "  1.09970260e+00]\n",
      "[ 6.73494812e+02 -2.20221289e+03  0.00000000e+00  0.00000000e+00\n",
      "  7.07003474e-01]\n",
      "[ 6.74806091e+02 -2.19952246e+03 -4.27226752e-01  5.21907844e-02\n",
      "  7.25621164e-01]\n",
      "[ 6.76895386e+02 -2.19589038e+03  1.32633382e-02 -2.44659871e-01\n",
      "  8.23002577e-01]\n",
      "[ 6.80870728e+02 -2.19672827e+03  2.75853723e-01  6.92125037e-02\n",
      "  1.26157808e+00]\n",
      "[ 6.81158203e+02 -2.19036157e+03  0.00000000e+00  0.00000000e+00\n",
      "  1.45155049e-04]\n",
      "[ 6.85974182e+02 -2.18280737e+03 -3.45556349e-01  6.18613847e-02\n",
      " -1.38662839e-02]\n",
      "[ 7.13805420e+02 -2.17440088e+03  0.00000000e+00  0.00000000e+00\n",
      "  1.57224789e-01]\n",
      "[ 6.86865356e+02 -2.18155957e+03 -3.11377849e-02 -1.21090531e-01\n",
      " -4.78673168e-02]\n",
      "[ 6.90982483e+02 -2.18157715e+03  0.00000000e+00  0.00000000e+00\n",
      "  6.28463686e-01]\n",
      "[ 6.87904480e+02 -2.17948804e+03  0.00000000e+00  0.00000000e+00\n",
      "  2.35764608e-01]\n",
      "[ 6.94694214e+02 -2.17545166e+03  0.00000000e+00  0.00000000e+00\n",
      "  1.02116275e+00]\n",
      "[ 6.90865173e+02 -2.17430981e+03 -2.39050698e+00  6.42426491e-01\n",
      "  1.67062747e+00]\n",
      "[ 7.02452271e+02 -2.16428003e+03  0.00000000e+00  0.00000000e+00\n",
      "  7.07003474e-01]\n",
      "[ 6.89914185e+02 -2.14843164e+03 -9.74434316e-02 -1.09005712e-01\n",
      "  2.04330817e-01]\n",
      "[ 6.86228760e+02 -2.15759937e+03  1.17657088e-01  4.18525487e-02\n",
      "  1.32768834e+00]\n",
      "[ 6.84840576e+02 -2.15453296e+03 -4.14913118e-01 -8.11067149e-02\n",
      "  1.54725564e+00]\n",
      "[ 6.84139404e+02 -2.15571338e+03  0.00000000e+00  0.00000000e+00\n",
      "  6.28463686e-01]\n",
      "[ 6.79961609e+02 -2.15975024e+03  0.00000000e+00  0.00000000e+00\n",
      "  1.09970260e+00]\n",
      "[ 6.77921814e+02 -2.16648389e+03  0.00000000e+00  0.00000000e+00\n",
      "  1.02116275e+00]\n",
      "[ 6.72886353e+02 -2.17002344e+03  0.00000000e+00  0.00000000e+00\n",
      "  6.28463686e-01]\n",
      "[ 6.67811890e+02 -2.17771265e+03  0.00000000e+00  0.00000000e+00\n",
      "  1.33532202e+00]\n",
      "[ 6.71224915e+02 -2.18114966e+03 -9.09185767e-01 -1.18427324e+00\n",
      "  1.09868002e+00]\n",
      "[ 6.68489807e+02 -2.18153857e+03  0.00000000e+00  0.00000000e+00\n",
      "  7.85543323e-01]\n",
      "[ 6.67479858e+02 -2.18363037e+03  0.00000000e+00  0.00000000e+00\n",
      "  4.71384048e-01]\n",
      "[ 6.65339294e+02 -2.18561426e+03  0.00000000e+00  0.00000000e+00\n",
      "  1.45155049e-04]\n",
      "[ 6.65223511e+02 -2.18916089e+03  9.69410613e-02  7.10229516e-01\n",
      "  1.45306730e+00]\n",
      "[ 6.59790039e+02 -2.19445435e+03  0.00000000e+00  0.00000000e+00\n",
      "  1.17824244e+00]\n",
      "[ 6.53350037e+02 -2.20054199e+03  0.00000000e+00  0.00000000e+00\n",
      "  3.92844230e-01]\n",
      "[ 6.50320923e+02 -2.20479297e+03  4.10260372e-02 -1.55797884e-01\n",
      "  8.16523671e-01]\n",
      "[ 6.52177551e+02 -2.20355640e+03 -2.98021197e-01  5.59356324e-02\n",
      "  9.15227950e-01]\n",
      "[ 6.51265747e+02 -2.20817261e+03 -3.00340891e-01  2.76743472e-01\n",
      "  1.23816121e+00]\n",
      "[ 6.82879639e+02 -2.18755811e+03  0.00000000e+00  0.00000000e+00\n",
      "  7.85543323e-01]\n",
      "[ 7.12130249e+02 -2.17287109e+03  0.00000000e+00  0.00000000e+00\n",
      "  1.02116275e+00]\n",
      "[ 7.11776367e+02 -2.15067041e+03 -1.23303197e-02 -7.79237747e-02\n",
      "  1.41386187e+00]\n",
      "[ 7.08406921e+02 -2.15277832e+03  0.00000000e+00  0.00000000e+00\n",
      "  1.09970260e+00]\n",
      "[ 7.08877319e+02 -2.15219116e+03  0.00000000e+00  0.00000000e+00\n",
      "  1.57224789e-01]\n",
      "[ 6.71262573e+02 -2.17402466e+03  0.00000000e+00  0.00000000e+00\n",
      "  4.71384048e-01]\n",
      "[ 6.70798157e+02 -2.17779077e+03  0.00000000e+00  0.00000000e+00\n",
      "  1.25678217e+00]\n",
      "[ 6.69336121e+02 -2.18325513e+03  0.00000000e+00  0.00000000e+00\n",
      "  1.25678217e+00]\n",
      "[ 6.61779053e+02 -2.18862500e+03  0.00000000e+00  0.00000000e+00\n",
      "  7.07003474e-01]\n",
      "[ 6.54461060e+02 -2.19891138e+03  0.00000000e+00  0.00000000e+00\n",
      "  1.25678217e+00]\n",
      "[ 7.17746460e+02 -2.17361450e+03  0.00000000e+00  0.00000000e+00\n",
      " -7.35954404e-01]\n",
      "[ 6.84294312e+02 -2.19317944e+03  0.00000000e+00  0.00000000e+00\n",
      "  1.17824244e+00]\n",
      "[ 6.84060181e+02 -2.18527124e+03  0.00000000e+00  0.00000000e+00\n",
      "  5.49923897e-01]"
     ]
    },
    {
     "name": "stderr",
     "output_type": "stream",
     "text": [
      "\r",
      "  1%|▌                                         | 3/248 [00:01<02:40,  1.53it/s]"
     ]
    },
    {
     "name": "stdout",
     "output_type": "stream",
     "text": [
      "\n",
      "[ 6.84806396e+02 -2.18420337e+03  0.00000000e+00  0.00000000e+00\n",
      "  2.35764608e-01]\n",
      "[ 7.04715454e+02 -2.16894092e+03  0.00000000e+00  0.00000000e+00\n",
      "  1.02116275e+00]\n",
      "[ 7.04221008e+02 -2.16689819e+03  0.00000000e+00  0.00000000e+00\n",
      "  3.92844230e-01]\n",
      "[ 7.04348145e+02 -2.15893286e+03  0.00000000e+00  0.00000000e+00\n",
      "  9.42622960e-01]\n",
      "[ 7.02061584e+02 -2.16609766e+03  0.00000000e+00  0.00000000e+00\n",
      "  9.42622960e-01]\n",
      "[ 6.86164734e+02 -2.15022778e+03  0.00000000e+00  0.00000000e+00\n",
      "  3.14304411e-01]\n",
      "[ 6.84761780e+02 -2.15907935e+03  0.00000000e+00  0.00000000e+00\n",
      "  7.86849707e-02]\n",
      "[ 6.67294739e+02 -2.20442432e+03  1.01263988e+00  1.74916482e+00\n",
      "  9.99890804e-01]\n",
      "[ 7.17618469e+02 -2.17476367e+03  0.00000000e+00  0.00000000e+00\n",
      " -7.86856472e-01]\n",
      "[ 7.31221680e+02 -2.18089722e+03  1.26788095e-01 -2.98424870e-01\n",
      " -3.12421292e-01]\n",
      "[ 6.74824829e+02 -2.19946777e+03 -2.58048296e-01  1.84340179e-01\n",
      "  6.02910697e-01]\n",
      "[ 6.76903992e+02 -2.19583521e+03  3.19998488e-02 -2.82363873e-02\n",
      "  8.81265104e-01]\n",
      "[ 6.80892578e+02 -2.19670898e+03  2.58319825e-01  9.90874097e-02\n",
      "  1.08004725e+00]\n",
      "[ 6.85940247e+02 -2.18279932e+03 -3.45557630e-01  6.18641339e-02\n",
      " -4.25862111e-02]\n",
      "[ 6.86882812e+02 -2.18156323e+03  2.96058729e-02 -1.00378536e-01\n",
      " -1.02694025e-02]\n",
      "[ 6.90627075e+02 -2.17424365e+03 -2.39050984e+00  6.42397344e-01\n",
      "  1.70055640e+00]\n",
      "[ 6.89980469e+02 -2.14854810e+03  1.45553663e-01 -4.55769122e-01\n",
      "  2.09531859e-01]\n",
      "[ 6.86160950e+02 -2.15774365e+03 -1.42908573e-01 -4.45451111e-01\n",
      "  1.13031209e+00]\n",
      "[ 6.84799927e+02 -2.15453906e+03 -4.14916158e-01 -8.11042637e-02\n",
      "  1.55698347e+00]\n",
      "[ 6.84140259e+02 -2.15571167e+03  0.00000000e+00  0.00000000e+00\n",
      "  6.28456593e-01]\n",
      "[ 6.79962402e+02 -2.15974854e+03  0.00000000e+00  0.00000000e+00\n",
      "  1.09969556e+00]\n",
      "[ 6.77922546e+02 -2.16648193e+03  0.00000000e+00  0.00000000e+00\n",
      "  1.02115571e+00]\n",
      "[ 6.72887085e+02 -2.17002148e+03  0.00000000e+00  0.00000000e+00\n",
      "  6.28456593e-01]\n",
      "[ 6.67812500e+02 -2.17771069e+03  0.00000000e+00  0.00000000e+00\n",
      "  1.33531499e+00]\n",
      "[ 6.71225891e+02 -2.18113550e+03 -5.61946094e-01 -6.87211096e-01\n",
      "  1.09961176e+00]\n",
      "[ 6.68490417e+02 -2.18153662e+03  0.00000000e+00  0.00000000e+00\n",
      "  7.85536230e-01]\n",
      "[ 6.67480469e+02 -2.18362842e+03  0.00000000e+00  0.00000000e+00\n",
      "  4.71376985e-01]\n",
      "[ 6.65339905e+02 -2.18561230e+03  0.00000000e+00  0.00000000e+00\n",
      "  1.38081014e-04]\n",
      "[ 6.65186584e+02 -2.18914453e+03 -8.77177492e-02  4.88996774e-01\n",
      "  1.47783732e+00]\n",
      "[ 6.59790588e+02 -2.19445215e+03  0.00000000e+00  0.00000000e+00\n",
      "  1.17823529e+00]\n",
      "[ 6.53350525e+02 -2.20053979e+03  0.00000000e+00  0.00000000e+00\n",
      "  3.92837167e-01]\n",
      "[ 6.50378235e+02 -2.20465308e+03  2.36101851e-01  4.11614150e-01\n",
      "  8.64960670e-01]\n",
      "[ 6.52148254e+02 -2.20354858e+03 -2.98023105e-01  5.59381768e-02\n",
      "  9.24948573e-01]\n",
      "[ 6.51362549e+02 -2.20820581e+03  1.60450965e-01  4.73954640e-02\n",
      "  1.06462216e+00]\n",
      "[ 6.82880188e+02 -2.18755640e+03  0.00000000e+00  0.00000000e+00\n",
      "  7.85536230e-01]\n",
      "[ 7.12130920e+02 -2.17286938e+03  0.00000000e+00  0.00000000e+00\n",
      "  1.02115571e+00]\n",
      "[ 7.11776001e+02 -2.15067651e+03 -1.23308701e-02 -7.79236928e-02\n",
      "  1.41385472e+00]\n",
      "[ 7.08407715e+02 -2.15277661e+03  0.00000000e+00  0.00000000e+00\n",
      "  1.09969556e+00]\n",
      "[ 7.08878113e+02 -2.15218945e+03  0.00000000e+00  0.00000000e+00\n",
      "  1.57217711e-01]\n",
      "[ 6.71212219e+02 -2.17404712e+03 -2.26243809e-01 -1.08437836e-01\n",
      "  7.36870408e-01]\n",
      "[ 6.70798828e+02 -2.17778882e+03  0.00000000e+00  0.00000000e+00\n",
      "  1.25677514e+00]\n",
      "[ 6.69336731e+02 -2.18325317e+03  0.00000000e+00  0.00000000e+00\n",
      "  1.25677514e+00]\n",
      "[ 6.61779663e+02 -2.18862305e+03  0.00000000e+00  0.00000000e+00\n",
      "  7.06996441e-01]\n",
      "[ 6.54461548e+02 -2.19890918e+03  0.00000000e+00  0.00000000e+00\n",
      "  1.25677514e+00]\n",
      "[ 7.17747131e+02 -2.17361279e+03  0.00000000e+00  0.00000000e+00\n",
      " -7.35961437e-01]\n",
      "[ 6.84294861e+02 -2.19317749e+03  0.00000000e+00  0.00000000e+00\n",
      "  1.17823529e+00]\n",
      "[ 6.84060791e+02 -2.18526953e+03  0.00000000e+00  0.00000000e+00\n",
      "  5.49916804e-01]\n",
      "[ 6.84807007e+02 -2.18420166e+03  0.00000000e+00  0.00000000e+00\n",
      "  2.35757530e-01]\n",
      "[ 7.04716125e+02 -2.16893921e+03  0.00000000e+00  0.00000000e+00\n",
      "  1.02115571e+00]\n",
      "[ 7.04221741e+02 -2.16689648e+03  0.00000000e+00  0.00000000e+00\n",
      "  3.92837167e-01]\n",
      "[ 7.04348938e+02 -2.15893115e+03  0.00000000e+00  0.00000000e+00\n",
      "  9.42615867e-01]\n",
      "[ 7.02062317e+02 -2.16609595e+03  0.00000000e+00  0.00000000e+00\n",
      "  9.42615867e-01]\n",
      "[ 6.86165588e+02 -2.15022607e+03  0.00000000e+00  0.00000000e+00\n",
      "  3.14297348e-01]\n",
      "[ 6.84762512e+02 -2.15907739e+03  0.00000000e+00  0.00000000e+00\n",
      "  7.86779001e-02]\n",
      "[ 6.67865662e+02 -2.20960400e+03  0.00000000e+00  0.00000000e+00\n",
      "  9.42615867e-01]\n",
      "[ 6.71160950e+02 -2.20494189e+03  0.00000000e+00  0.00000000e+00\n",
      "  7.06996441e-01]\n",
      "[ 6.72174988e+02 -2.20352002e+03  0.00000000e+00  0.00000000e+00\n",
      "  7.86779001e-02]\n",
      "[ 7.17770630e+02 -2.17652441e+03  0.00000000e+00  0.00000000e+00\n",
      "  6.28456593e-01]\n",
      "[ 7.13714905e+02 -2.17441138e+03  0.00000000e+00  0.00000000e+00\n",
      "  2.35757530e-01]\n",
      "[ 6.94526733e+02 -2.17566602e+03  0.00000000e+00  0.00000000e+00\n",
      "  1.02115571e+00]\n",
      "[ 6.91296814e+02 -2.17456323e+03  0.00000000e+00  0.00000000e+00\n",
      "  3.92837167e-01]\n",
      "[ 7.02078674e+02 -2.16374561e+03  0.00000000e+00  0.00000000e+00\n",
      "  1.38081014e-04]\n",
      "[ 6.89569763e+02 -2.15252881e+03  0.00000000e+00  0.00000000e+00\n",
      "  1.33531499e+00]\n"
     ]
    },
    {
     "name": "stderr",
     "output_type": "stream",
     "text": [
      "\r",
      "  1%|▌                                         | 3/248 [00:02<03:47,  1.07it/s]"
     ]
    },
    {
     "name": "stdout",
     "output_type": "stream",
     "text": [
      "[ 6.85513367e+02 -2.15869189e+03  0.00000000e+00  0.00000000e+00\n",
      "  1.25677514e+00]\n",
      "[ 6.83110291e+02 -2.15581885e+03  0.00000000e+00  0.00000000e+00\n",
      "  5.49916804e-01]\n"
     ]
    },
    {
     "name": "stderr",
     "output_type": "stream",
     "text": [
      "\n"
     ]
    }
   ],
   "source": [
    "scene = scenes[0]\n",
    "x = np.zeros((4,1000))\n",
    "y = np.zeros((4,1000))\n",
    "for i in tqdm(range(scene[0][0],scene[0][1])):\n",
    "    frame = frames[i]\n",
    "    x[i][0] = frame[3][0]\n",
    "    y[i][0] = frame[3][1]\n",
    "    for j in range(frame[1][0],frame[1][1]):\n",
    "        agent = agents[j]\n",
    "        x[i][j] = agent[0][0]\n",
    "        y[i][j] = agent[0][1]\n",
    "        print(np.concatenate([agent[0],agent[3],[agent[2]]]))\n",
    "    if i == 3:\n",
    "        break"
   ]
  },
  {
   "cell_type": "code",
   "execution_count": 366,
   "metadata": {},
   "outputs": [],
   "source": [
    "def getVelocity(scene,frames):\n",
    "    x = -1 * np.ones((2000,300))\n",
    "    y = -1 * np.ones((2000,300))\n",
    "    for i in tqdm(range(scene[0][0],scene[0][1])):\n",
    "        frame = frames[i]\n",
    "        #x[0][i] = frame[3][0]\n",
    "        #y[0][i] = frame[3][1]\n",
    "        for j in range(frame[1][0],frame[1][1]):\n",
    "            agent = agents[j]\n",
    "            x[agent[-2]][i-scene[0][0]] = agent[3][0]\n",
    "            y[agent[-2]][i-scene[0][0]] = agent[3][1]\n",
    "    return x,y"
   ]
  },
  {
   "cell_type": "code",
   "execution_count": 367,
   "metadata": {
    "scrolled": true
   },
   "outputs": [
    {
     "name": "stderr",
     "output_type": "stream",
     "text": [
      "100%|████████████████████████████████████████| 249/249 [00:58<00:00,  4.24it/s]\n"
     ]
    },
    {
     "data": {
      "image/png": "[encoded data removed]",
      "text/plain": [
       "<Figure size 432x288 with 1 Axes>"
      ]
     },
     "metadata": {
      "needs_background": "light"
     },
     "output_type": "display_data"
    }
   ],
   "source": [
    "x,y = getVelocity(scenes[1],frames)\n",
    "graphVelocity(x,y)"
   ]
  },
  {
   "cell_type": "code",
   "execution_count": 354,
   "metadata": {},
   "outputs": [],
   "source": [
    "def graphVelocity(x,y):\n",
    "    fig,ax = plt.subplots()\n",
    "    for j in range(1,2000):\n",
    "        if (x[j]!=-1).sum() > 50:\n",
    "            ax.scatter(x[j][x[j]!=-1],y[j][y[j]!=-1],color = ((j%1000)/1000.0,(j%10)/10.0,(j%100)/100.0),label = j)\n",
    "\n",
    "    #ax.legend()\n",
    "    plt.show()"
   ]
  },
  {
   "cell_type": "code",
   "execution_count": null,
   "metadata": {},
   "outputs": [],
   "source": []
  },
  {
   "cell_type": "code",
   "execution_count": 218,
   "metadata": {},
   "outputs": [
    {
     "data": {
      "image/png": "[encoded data removed]",
      "text/plain": [
       "<Figure size 432x288 with 1 Axes>"
      ]
     },
     "metadata": {
      "needs_background": "light"
     },
     "output_type": "display_data"
    }
   ],
   "source": [
    "for j in range(4):\n",
    "    j = 0\n",
    "    plt.scatter(x[j][x[j]!=0][1:],y[j][y[j]!=0][1:])\n",
    "    plt.scatter(x[j][0],y[j][0])\n",
    "    break"
   ]
  },
  {
   "cell_type": "code",
   "execution_count": null,
   "metadata": {},
   "outputs": [],
   "source": []
  },
  {
   "cell_type": "code",
   "execution_count": null,
   "metadata": {},
   "outputs": [],
   "source": []
  },
  {
   "cell_type": "code",
   "execution_count": 6,
   "metadata": {},
   "outputs": [],
   "source": [
    "def distance_from_center(agent1, agent2):\n",
    "    '''\n",
    "    Calculates the distance between the centroids of two agents\n",
    "    @param agent1 - AgentDataset dictionary that represents first agent\n",
    "    @param agent2 - AgentDataset dictionary that represents second agent\n",
    "    @return - numpy float distance between the two agents' centroids\n",
    "    '''\n",
    "    return np.linalg.norm(agent1['centroid'] - agent2['centroid'])"
   ]
  },
  {
   "cell_type": "code",
   "execution_count": 7,
   "metadata": {},
   "outputs": [],
   "source": [
    "def distance_from_edge(agent1, agent2):\n",
    "    '''\n",
    "    Calculates the distance between the closest edges of two agents\n",
    "    @param agent1 - AgentDataset dictionary that represents first agent\n",
    "    @param agent2 - AgentDataset dictionary that represents second agent\n",
    "    @return - numpy float distance between two agents' closest edges\n",
    "    '''\n",
    "    \n",
    "    projection = lambda u, v: (np.dot(u, v) / np.dot(v, v)) * v\n",
    "    \n",
    "    # generate orthogonal axes for each agent\n",
    "    a1_length_axis = agent1['extent'][1] / 2 * np.array([np.cos(agent1['yaw']), np.sin(agent1['yaw'])])\n",
    "    a1_width_axis  = agent1['extent'][0] / 2 * np.array([np.sin(agent1['yaw']), np.cos(agent1['yaw'])])\n",
    "    a2_length_axis = agent2['extent'][1] / 2 * np.array([np.cos(agent2['yaw']), np.sin(agent2['yaw'])])\n",
    "    a2_width_axis  = agent2['extent'][0] / 2 * np.array([np.sin(agent2['yaw']), np.cos(agent2['yaw'])])\n",
    "        \n",
    "    # find all of the corners\n",
    "    a1_corners = np.asarray([agent1['centroid'] + a1_length_axis * a + a1_width_axis * a for a in [-1, 1]])\n",
    "    a2_corners = np.asarray([agent2['centroid'] + a2_length_axis * a + a2_width_axis * a for a in [-1, 1]])\n",
    "    \n",
    "    # convert corners into cartesian intervals\n",
    "    a1_max = np.maximum(*a1_corners)\n",
    "    a1_min = np.minimum(*a1_corners)\n",
    "    a2_max = np.maximum(*a2_corners)\n",
    "    a2_min = np.minimum(*a2_corners)\n",
    "    \n",
    "    # compute minkowski distance for rectangles\n",
    "    y = np.maximum(0, np.maximum(a1_min - a2_max, a2_min - a1_max))\n",
    "    \n",
    "    return np.sum(np.abs(y) ** 2, axis=-1) ** (1/2)"
   ]
  },
  {
   "cell_type": "code",
   "execution_count": 8,
   "metadata": {},
   "outputs": [
    {
     "data": {
      "text/plain": [
       "88.71618250270556"
      ]
     },
     "execution_count": 8,
     "metadata": {},
     "output_type": "execute_result"
    }
   ],
   "source": [
    "distance_from_center(dataset[1], dataset[5])"
   ]
  },
  {
   "cell_type": "code",
   "execution_count": 9,
   "metadata": {},
   "outputs": [
    {
     "data": {
      "text/plain": [
       "85.06367486122527"
      ]
     },
     "execution_count": 9,
     "metadata": {},
     "output_type": "execute_result"
    }
   ],
   "source": [
    "distance_from_edge(dataset[1], dataset[5])"
   ]
  },
  {
   "cell_type": "code",
   "execution_count": null,
   "metadata": {},
   "outputs": [],
   "source": []
  }
 ],
 "metadata": {
  "kernelspec": {
   "display_name": "Python 3",
   "language": "python",
   "name": "python3"
  },
  "language_info": {
   "codemirror_mode": {
    "name": "ipython",
    "version": 3
   },
   "file_extension": ".py",
   "mimetype": "text/x-python",
   "name": "python",
   "nbconvert_exporter": "python",
   "pygments_lexer": "ipython3",
   "version": "3.8.5"
  }
 },
 "nbformat": 4,
 "nbformat_minor": 4
}
