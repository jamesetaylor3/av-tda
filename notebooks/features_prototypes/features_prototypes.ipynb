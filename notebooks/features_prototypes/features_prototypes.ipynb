{
 "cells": [
  {
   "cell_type": "code",
   "execution_count": 1,
   "metadata": {},
   "outputs": [],
   "source": [
    "import numpy as np\n",
    "\n",
    "from l5kit.configs import load_config_data\n",
    "from l5kit.data import LocalDataManager, ChunkedDataset\n",
    "from l5kit.dataset import AgentDataset\n",
    "from l5kit.rasterization import build_rasterizer\n",
    "\n",
    "import os"
   ]
  },
  {
   "cell_type": "code",
   "execution_count": 2,
   "metadata": {},
   "outputs": [
    {
     "name": "stdout",
     "output_type": "stream",
     "text": [
      "{'format_version': 4, 'model_params': {'model_architecture': 'resnet50', 'history_num_frames': 0, 'history_step_size': 1, 'history_delta_time': 0.1, 'future_num_frames': 50, 'future_step_size': 1, 'future_delta_time': 0.1}, 'raster_params': {'raster_size': [224, 224], 'pixel_size': [0.5, 0.5], 'ego_center': [0.25, 0.5], 'map_type': 'py_semantic', 'satellite_map_key': 'aerial_map/aerial_map.png', 'semantic_map_key': 'semantic_map/semantic_map.pb', 'dataset_meta_key': 'meta.json', 'filter_agents_threshold': 0.5, 'disable_traffic_light_faces': False}, 'train_data_loader': {'key': 'scenes/sample.zarr', 'batch_size': 12, 'shuffle': True, 'num_workers': 16}, 'val_data_loader': {'key': 'scenes/sample.zarr', 'batch_size': 12, 'shuffle': False, 'num_workers': 16}, 'train_params': {'checkpoint_every_n_steps': 10000, 'max_num_steps': 5, 'eval_every_n_steps': 10000}}\n"
     ]
    }
   ],
   "source": [
    "os.environ['L5KIT_DATA_FOLDER'] = '../../dataset'\n",
    "dm = LocalDataManager(None)\n",
    "\n",
    "cfg = load_config_data('./config.yaml')\n",
    "print(cfg)"
   ]
  },
  {
   "cell_type": "code",
   "execution_count": 3,
   "metadata": {},
   "outputs": [],
   "source": [
    "train_cfg = cfg['train_data_loader']\n",
    "rasterizer = build_rasterizer(cfg, dm)\n",
    "train_zarr = ChunkedDataset(dm.require(train_cfg['key'])).open()"
   ]
  },
  {
   "cell_type": "code",
   "execution_count": 22,
   "metadata": {},
   "outputs": [],
   "source": [
    "def map_frame_array_to_dict(array):\n",
    "    return dict(zip(['timestamp', 'agent_index_interval', 'ego_translation', 'ego_rotation'], array))\n",
    "\n",
    "def map_scene_array_to_dict(array):\n",
    "    return dict(zip(['frame_index_interval', 'host', 'start_time', 'end_time'], array))\n",
    "\n",
    "def map_agent_array_to_dict(array):\n",
    "    return dict(zip(['centroid', 'extent', 'yaw', 'velocity', 'track_id', 'label_probabilities'], array))"
   ]
  },
  {
   "cell_type": "code",
   "execution_count": 23,
   "metadata": {},
   "outputs": [],
   "source": [
    "scenes = [map_scene_array_to_dict(s) for s in train_zarr.scenes]\n",
    "frames = [map_frame_array_to_dict(f) for f in train_zarr.frames]\n",
    "agents = [map_agent_array_to_dict(a) for a in train_zarr.agents]"
   ]
  },
  {
   "cell_type": "code",
   "execution_count": 24,
   "metadata": {},
   "outputs": [],
   "source": [
    "def distance_from_center(agent1, agent2):\n",
    "    '''\n",
    "    Calculates the distance between the centroids of two agents\n",
    "    @param agent1 - AgentDataset dictionary that represents first agent\n",
    "    @param agent2 - AgentDataset dictionary that represents second agent\n",
    "    @return - numpy float distance between the two agents' centroids\n",
    "    '''\n",
    "    return np.linalg.norm(agent1['centroid'] - agent2['centroid'])"
   ]
  },
  {
   "cell_type": "code",
   "execution_count": 25,
   "metadata": {},
   "outputs": [],
   "source": [
    "def distance_from_edge(agent1, agent2):\n",
    "    '''\n",
    "    Calculates the distance between the closest edges of two agents\n",
    "    @param agent1 - AgentDataset dictionary that represents first agent\n",
    "    @param agent2 - AgentDataset dictionary that represents second agent\n",
    "    @return - numpy float distance between two agents' closest edges\n",
    "    '''\n",
    "        \n",
    "    # generate orthogonal axes for each agent\n",
    "    a1_length_axis = agent1['extent'][1] / 2 * np.asarray([np.cos(agent1['yaw']), np.sin(agent1['yaw'])])\n",
    "    a1_width_axis  = agent1['extent'][0] / 2 * np.asarray([np.sin(agent1['yaw']), np.cos(agent1['yaw'])])\n",
    "    a2_length_axis = agent2['extent'][1] / 2 * np.asarray([np.cos(agent2['yaw']), np.sin(agent2['yaw'])])\n",
    "    a2_width_axis  = agent2['extent'][0] / 2 * np.asarray([np.sin(agent2['yaw']), np.cos(agent2['yaw'])])\n",
    "        \n",
    "    # find two opposite corners of rectangles\n",
    "    a1_corners = np.asarray([agent1['centroid'] + a1_length_axis * a + a1_width_axis * a for a in [-1, 1]])\n",
    "    a2_corners = np.asarray([agent2['centroid'] + a2_length_axis * a + a2_width_axis * a for a in [-1, 1]])\n",
    "    \n",
    "    # convert corners into cartesian intervals\n",
    "    a1_max = np.maximum(*a1_corners)\n",
    "    a1_min = np.minimum(*a1_corners)\n",
    "    a2_max = np.maximum(*a2_corners)\n",
    "    a2_min = np.minimum(*a2_corners)\n",
    "    \n",
    "    # compute minkowski distance for rectangles\n",
    "    y = np.maximum(0, np.maximum(a1_min - a2_max, a2_min - a1_max))\n",
    "    \n",
    "    return np.sum(np.abs(y) ** 2, axis=-1) ** (1/2)"
   ]
  },
  {
   "cell_type": "code",
   "execution_count": 26,
   "metadata": {},
   "outputs": [
    {
     "data": {
      "text/plain": [
       "53.94792262705793"
      ]
     },
     "execution_count": 26,
     "metadata": {},
     "output_type": "execute_result"
    }
   ],
   "source": [
    "distance_from_center(agents[1], agents[5])"
   ]
  },
  {
   "cell_type": "code",
   "execution_count": 27,
   "metadata": {},
   "outputs": [
    {
     "data": {
      "text/plain": [
       "51.33004967277152"
      ]
     },
     "execution_count": 27,
     "metadata": {},
     "output_type": "execute_result"
    }
   ],
   "source": [
    "distance_from_edge(agents[1], agents[5])"
   ]
  },
  {
   "cell_type": "code",
   "execution_count": 70,
   "metadata": {},
   "outputs": [
    {
     "data": {
      "text/plain": [
       "{'frame_index_interval': array([24590, 24838]),\n",
       " 'host': 'host-a101',\n",
       " 'start_time': 1571844710505151232,\n",
       " 'end_time': 1571844735505151232}"
      ]
     },
     "execution_count": 70,
     "metadata": {},
     "output_type": "execute_result"
    }
   ],
   "source": [
    "# playing around with scene 0\n",
    "\n",
    "scene = scenes[99]\n",
    "scene"
   ]
  },
  {
   "cell_type": "code",
   "execution_count": 113,
   "metadata": {},
   "outputs": [],
   "source": [
    "# have this be numpy array from start\n",
    "data = np.array([[0,0,0,0,0]])\n",
    "\n",
    "fii = scene['frame_index_interval']\n",
    "for frame in frames[fii[0]: fii[1]]:\n",
    "    frame_data = []\n",
    "    \n",
    "    aii = frame['agent_index_interval']\n",
    "    for agent in agents[aii[0]: aii[1]]:\n",
    "        # concatenate these three different features to one embedding\n",
    "        embedding = np.concatenate((agent['centroid'], agent['velocity'], [agent['yaw']]))\n",
    "        frame_data.append(embedding)\n",
    "\n",
    "    data = np.append(data, frame_data, axis=0)\n",
    "    break\n",
    "\n",
    "data = data[1:]"
   ]
  },
  {
   "cell_type": "code",
   "execution_count": 108,
   "metadata": {},
   "outputs": [],
   "source": [
    "# normalize data\n",
    "def normalize_data():\n",
    "    pass"
   ]
  },
  {
   "cell_type": "code",
   "execution_count": 120,
   "metadata": {},
   "outputs": [
    {
     "name": "stdout",
     "output_type": "stream",
     "text": [
      "number of clusters 4\n"
     ]
    }
   ],
   "source": [
    "from sklearn.cluster import MeanShift, estimate_bandwidth\n",
    "\n",
    "bandwidth = estimate_bandwidth(data, quantile=0.2, n_samples=len(data))\n",
    "\n",
    "ms = MeanShift(bandwidth=bandwidth, bin_seeding=True)\n",
    "ms.fit(data)\n",
    "\n",
    "labels = ms.labels_\n",
    "cluster_centers = ms.cluster_centers_\n",
    "labels_unique = np.unique(labels)\n",
    "n_clusters_ = len(labels_unique)\n",
    "\n",
    "print(f\"number of clusters {n_clusters_}\")"
   ]
  },
  {
   "cell_type": "code",
   "execution_count": 114,
   "metadata": {},
   "outputs": [
    {
     "data": {
      "text/plain": [
       "array([[ 3.80800873e+02, -1.15475685e+02,  0.00000000e+00,\n",
       "         0.00000000e+00, -8.32659006e-01],\n",
       "       [ 3.94077271e+02, -1.30089493e+02,  0.00000000e+00,\n",
       "         0.00000000e+00, -8.22044134e-01],\n",
       "       [ 3.89383881e+02, -1.24909294e+02,  0.00000000e+00,\n",
       "         0.00000000e+00, -8.33621264e-01],\n",
       "       [ 3.85541260e+02, -1.20462067e+02,  0.00000000e+00,\n",
       "         0.00000000e+00, -8.35427046e-01],\n",
       "       [ 4.16149689e+02, -1.54887161e+02,  0.00000000e+00,\n",
       "         0.00000000e+00, -8.08126211e-01],\n",
       "       [ 4.37675354e+02, -1.30129547e+02,  0.00000000e+00,\n",
       "         0.00000000e+00, -2.59026027e+00],\n",
       "       [ 4.13354889e+02, -1.18505775e+02,  0.00000000e+00,\n",
       "         0.00000000e+00,  2.27939487e+00],\n",
       "       [ 4.09533905e+02, -1.47839661e+02,  0.00000000e+00,\n",
       "         0.00000000e+00, -8.51108551e-01],\n",
       "       [ 4.20132507e+02, -1.59042801e+02,  0.00000000e+00,\n",
       "         0.00000000e+00, -7.97823906e-01],\n",
       "       [ 4.00011932e+02, -1.36162827e+02,  0.00000000e+00,\n",
       "         0.00000000e+00, -8.19583654e-01],\n",
       "       [ 4.27226990e+02, -1.28366653e+02,  0.00000000e+00,\n",
       "         0.00000000e+00,  2.27956891e+00],\n",
       "       [ 3.76349243e+02, -1.10304298e+02,  0.00000000e+00,\n",
       "         0.00000000e+00, -8.71342182e-01],\n",
       "       [ 3.71463348e+02, -1.04808167e+02,  0.00000000e+00,\n",
       "         0.00000000e+00, -8.39277506e-01],\n",
       "       [ 4.44301819e+02, -1.34704056e+02,  0.00000000e+00,\n",
       "         0.00000000e+00, -8.36363554e-01],\n",
       "       [ 3.85469421e+02, -8.14560623e+01,  0.00000000e+00,\n",
       "         0.00000000e+00,  2.29912686e+00],\n",
       "       [ 3.69549927e+02, -9.69582672e+01,  0.00000000e+00,\n",
       "         0.00000000e+00, -7.81260610e-01],\n",
       "       [ 3.71044525e+02, -6.03631058e+01,  0.00000000e+00,\n",
       "         0.00000000e+00,  2.29869723e+00],\n",
       "       [ 3.66349518e+02, -9.88702850e+01,  0.00000000e+00,\n",
       "         0.00000000e+00, -8.36207509e-01],\n",
       "       [ 4.32760254e+02, -1.57678635e+02,  0.00000000e+00,\n",
       "         0.00000000e+00, -8.38561893e-01],\n",
       "       [ 4.29524536e+02, -1.59318390e+02,  0.00000000e+00,\n",
       "         0.00000000e+00, -8.05064380e-01],\n",
       "       [ 4.47441498e+02, -1.79289719e+02,  0.00000000e+00,\n",
       "         0.00000000e+00, -7.85595953e-01],\n",
       "       [ 4.66327606e+02, -1.86062256e+02,  0.00000000e+00,\n",
       "         0.00000000e+00,  2.33349109e+00],\n",
       "       [ 4.47390656e+02, -1.73823975e+02,  0.00000000e+00,\n",
       "         0.00000000e+00, -8.23936880e-01],\n",
       "       [ 4.69135712e+02, -2.03115250e+02,  0.00000000e+00,\n",
       "         0.00000000e+00, -8.44570577e-01],\n",
       "       [ 4.36980591e+02, -1.99788605e+02,  0.00000000e+00,\n",
       "         0.00000000e+00,  9.64373648e-01],\n",
       "       [ 4.70583557e+02, -2.10652985e+02,  0.00000000e+00,\n",
       "         0.00000000e+00, -8.89149904e-01],\n",
       "       [ 4.26888672e+02, -1.42307800e+02,  0.00000000e+00,\n",
       "         0.00000000e+00,  4.71041083e-01],\n",
       "       [ 4.19401459e+02, -1.34391281e+02,  0.00000000e+00,\n",
       "         0.00000000e+00,  1.02081978e+00],\n",
       "       [ 4.13352997e+02, -1.57352844e+02,  0.00000000e+00,\n",
       "         0.00000000e+00,  7.06660509e-01],\n",
       "       [ 3.94009888e+02, -1.35468872e+02,  0.00000000e+00,\n",
       "         0.00000000e+00,  7.62967408e-01],\n",
       "       [ 3.88448792e+02, -1.29301300e+02,  0.00000000e+00,\n",
       "         0.00000000e+00,  7.06660509e-01],\n",
       "       [ 4.04998810e+02, -1.18604042e+02,  0.00000000e+00,\n",
       "         0.00000000e+00,  7.06660509e-01],\n",
       "       [ 3.83033783e+02, -1.23245598e+02,  0.00000000e+00,\n",
       "         0.00000000e+00,  7.85200357e-01],\n",
       "       [ 3.78361359e+02, -1.17999641e+02,  0.00000000e+00,\n",
       "         0.00000000e+00,  6.28120720e-01],\n",
       "       [ 3.73127472e+02, -1.12335480e+02,  0.00000000e+00,\n",
       "         0.00000000e+00,  7.85200357e-01],\n",
       "       [ 3.96841949e+02, -1.09952782e+02,  0.00000000e+00,\n",
       "         0.00000000e+00, -1.97808418e-04],\n",
       "       [ 3.91344238e+02, -1.04757271e+02,  0.00000000e+00,\n",
       "         0.00000000e+00,  1.02081978e+00],\n",
       "       [ 3.86369751e+02, -9.91747131e+01,  0.00000000e+00,\n",
       "         0.00000000e+00,  1.49205875e+00],\n",
       "       [ 3.87859985e+02, -1.00923080e+02,  0.00000000e+00,\n",
       "         0.00000000e+00,  7.06660509e-01],\n",
       "       [ 3.83657196e+02, -9.54242477e+01,  0.00000000e+00,\n",
       "         0.00000000e+00,  4.71041083e-01],\n",
       "       [ 3.85186584e+02, -9.57950439e+01,  0.00000000e+00,\n",
       "         0.00000000e+00,  4.71041083e-01],\n",
       "       [ 3.83059998e+02, -9.38970871e+01,  0.00000000e+00,\n",
       "         0.00000000e+00,  5.49580932e-01],\n",
       "       [ 3.80343781e+02, -9.06599045e+01,  0.00000000e+00,\n",
       "         0.00000000e+00,  2.35421643e-01],\n",
       "       [ 3.94962708e+02, -8.40476685e+01,  0.00000000e+00,\n",
       "         0.00000000e+00,  5.49580932e-01],\n",
       "       [ 3.96562347e+02, -8.39240189e+01,  0.00000000e+00,\n",
       "         0.00000000e+00,  4.71041083e-01],\n",
       "       [ 4.01839630e+02, -9.21188049e+01,  0.00000000e+00,\n",
       "         0.00000000e+00,  6.28120720e-01],\n",
       "       [ 3.97648895e+02, -8.34031830e+01,  0.00000000e+00,\n",
       "         0.00000000e+00,  1.09935963e+00],\n",
       "       [ 3.95249969e+02, -8.04990082e+01,  0.00000000e+00,\n",
       "         0.00000000e+00, -1.97808418e-04],\n",
       "       [ 4.01163055e+02, -8.80939789e+01,  0.00000000e+00,\n",
       "         0.00000000e+00,  1.25643921e+00],\n",
       "       [ 4.02489166e+02, -8.90002518e+01,  0.00000000e+00,\n",
       "         0.00000000e+00,  9.42279994e-01],\n",
       "       [ 4.04555115e+02, -9.19111252e+01,  0.00000000e+00,\n",
       "         0.00000000e+00,  1.02081978e+00],\n",
       "       [ 4.08677643e+02, -9.99985504e+01,  0.00000000e+00,\n",
       "         0.00000000e+00,  3.92501265e-01],\n",
       "       [ 4.08110809e+02, -9.62319794e+01,  0.00000000e+00,\n",
       "         0.00000000e+00,  5.49580932e-01],\n",
       "       [ 4.06439301e+02, -9.41393433e+01,  0.00000000e+00,\n",
       "         0.00000000e+00,  1.02081978e+00],\n",
       "       [ 4.24098572e+02, -9.91883621e+01,  0.00000000e+00,\n",
       "         0.00000000e+00,  1.02081978e+00],\n",
       "       [ 4.26023041e+02, -9.62196960e+01,  0.00000000e+00,\n",
       "         0.00000000e+00,  6.28120720e-01],\n",
       "       [ 4.18167572e+02, -1.05867027e+02,  0.00000000e+00,\n",
       "         0.00000000e+00,  8.63740146e-01],\n",
       "       [ 4.15806793e+02, -9.88672943e+01,  0.00000000e+00,\n",
       "         0.00000000e+00,  1.00421417e+00],\n",
       "       [ 4.32835297e+02, -1.21696938e+02,  0.00000000e+00,\n",
       "         0.00000000e+00,  1.49205875e+00],\n",
       "       [ 4.35336121e+02, -1.23507484e+02,  0.00000000e+00,\n",
       "         0.00000000e+00,  7.06660509e-01],\n",
       "       [ 4.37277771e+02, -1.25548409e+02,  0.00000000e+00,\n",
       "         0.00000000e+00,  1.09935963e+00],\n",
       "       [ 4.46331909e+02, -1.33213928e+02,  0.00000000e+00,\n",
       "         0.00000000e+00, -7.88630545e-01],\n",
       "       [ 4.42908539e+02, -1.38887314e+02,  0.00000000e+00,\n",
       "         0.00000000e+00,  9.42279994e-01],\n",
       "       [ 4.42204132e+02, -1.39564011e+02,  0.00000000e+00,\n",
       "         0.00000000e+00,  1.41351891e+00]])"
      ]
     },
     "execution_count": 114,
     "metadata": {},
     "output_type": "execute_result"
    }
   ],
   "source": [
    "data"
   ]
  },
  {
   "cell_type": "code",
   "execution_count": null,
   "metadata": {},
   "outputs": [],
   "source": []
  }
 ],
 "metadata": {
  "kernelspec": {
   "display_name": "Python 3",
   "language": "python",
   "name": "python3"
  },
  "language_info": {
   "codemirror_mode": {
    "name": "ipython",
    "version": 3
   },
   "file_extension": ".py",
   "mimetype": "text/x-python",
   "name": "python",
   "nbconvert_exporter": "python",
   "pygments_lexer": "ipython3",
   "version": "3.8.5"
  }
 },
 "nbformat": 4,
 "nbformat_minor": 4
}
