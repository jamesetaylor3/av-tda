{
 "cells": [
  {
   "cell_type": "code",
   "execution_count": 64,
   "metadata": {},
   "outputs": [],
   "source": [
    "import numpy as np\n",
    "\n",
    "import matplotlib.pyplot as plt\n",
    "from mpl_toolkits.mplot3d import Axes3D\n",
    "\n",
    "from l5kit.configs import load_config_data\n",
    "from l5kit.data import LocalDataManager, ChunkedDataset\n",
    "from l5kit.dataset import AgentDataset\n",
    "from l5kit.rasterization import build_rasterizer\n",
    "\n",
    "import os\n",
    "import copy\n",
    "from itertools import cycle"
   ]
  },
  {
   "cell_type": "code",
   "execution_count": 2,
   "metadata": {},
   "outputs": [
    {
     "name": "stdout",
     "output_type": "stream",
     "text": [
      "{'format_version': 4, 'model_params': {'model_architecture': 'resnet50', 'history_num_frames': 0, 'history_step_size': 1, 'history_delta_time': 0.1, 'future_num_frames': 50, 'future_step_size': 1, 'future_delta_time': 0.1}, 'raster_params': {'raster_size': [224, 224], 'pixel_size': [0.5, 0.5], 'ego_center': [0.25, 0.5], 'map_type': 'py_semantic', 'satellite_map_key': 'aerial_map/aerial_map.png', 'semantic_map_key': 'semantic_map/semantic_map.pb', 'dataset_meta_key': 'meta.json', 'filter_agents_threshold': 0.5, 'disable_traffic_light_faces': False}, 'train_data_loader': {'key': 'scenes/sample.zarr', 'batch_size': 12, 'shuffle': True, 'num_workers': 16}, 'val_data_loader': {'key': 'scenes/sample.zarr', 'batch_size': 12, 'shuffle': False, 'num_workers': 16}, 'train_params': {'checkpoint_every_n_steps': 10000, 'max_num_steps': 5, 'eval_every_n_steps': 10000}}\n"
     ]
    }
   ],
   "source": [
    "os.environ['L5KIT_DATA_FOLDER'] = '../../dataset'\n",
    "dm = LocalDataManager(None)\n",
    "\n",
    "cfg = load_config_data('./config.yaml')\n",
    "print(cfg)"
   ]
  },
  {
   "cell_type": "code",
   "execution_count": 3,
   "metadata": {},
   "outputs": [],
   "source": [
    "train_cfg = cfg['train_data_loader']\n",
    "rasterizer = build_rasterizer(cfg, dm)\n",
    "train_zarr = ChunkedDataset(dm.require(train_cfg['key'])).open()"
   ]
  },
  {
   "cell_type": "code",
   "execution_count": 4,
   "metadata": {},
   "outputs": [],
   "source": [
    "def map_frame_array_to_dict(array):\n",
    "    return dict(zip(['timestamp', 'agent_index_interval', 'ego_translation', 'ego_rotation'], array))\n",
    "\n",
    "def map_scene_array_to_dict(array):\n",
    "    return dict(zip(['frame_index_interval', 'host', 'start_time', 'end_time'], array))\n",
    "\n",
    "def map_agent_array_to_dict(array):\n",
    "    return dict(zip(['centroid', 'extent', 'yaw', 'velocity', 'track_id', 'label_probabilities'], array))"
   ]
  },
  {
   "cell_type": "code",
   "execution_count": 5,
   "metadata": {},
   "outputs": [],
   "source": [
    "scenes = [map_scene_array_to_dict(s) for s in train_zarr.scenes]\n",
    "frames = [map_frame_array_to_dict(f) for f in train_zarr.frames]\n",
    "agents = [map_agent_array_to_dict(a) for a in train_zarr.agents]"
   ]
  },
  {
   "cell_type": "code",
   "execution_count": 6,
   "metadata": {},
   "outputs": [],
   "source": [
    "def distance_from_center(agent1, agent2):\n",
    "    '''\n",
    "    Calculates the distance between the centroids of two agents\n",
    "    @param agent1 - AgentDataset dictionary that represents first agent\n",
    "    @param agent2 - AgentDataset dictionary that represents second agent\n",
    "    @return - numpy float distance between the two agents' centroids\n",
    "    '''\n",
    "    return np.linalg.norm(agent1['centroid'] - agent2['centroid'])"
   ]
  },
  {
   "cell_type": "code",
   "execution_count": 7,
   "metadata": {},
   "outputs": [],
   "source": [
    "def distance_from_edge(agent1, agent2):\n",
    "    '''\n",
    "    Calculates the distance between the closest edges of two agents\n",
    "    @param agent1 - AgentDataset dictionary that represents first agent\n",
    "    @param agent2 - AgentDataset dictionary that represents second agent\n",
    "    @return - numpy float distance between two agents' closest edges\n",
    "    '''\n",
    "        \n",
    "    # generate orthogonal axes for each agent\n",
    "    a1_length_axis = agent1['extent'][1] / 2 * np.asarray([np.cos(agent1['yaw']), np.sin(agent1['yaw'])])\n",
    "    a1_width_axis  = agent1['extent'][0] / 2 * np.asarray([np.sin(agent1['yaw']), np.cos(agent1['yaw'])])\n",
    "    a2_length_axis = agent2['extent'][1] / 2 * np.asarray([np.cos(agent2['yaw']), np.sin(agent2['yaw'])])\n",
    "    a2_width_axis  = agent2['extent'][0] / 2 * np.asarray([np.sin(agent2['yaw']), np.cos(agent2['yaw'])])\n",
    "        \n",
    "    # find two opposite corners of rectangles\n",
    "    a1_corners = np.asarray([agent1['centroid'] + a1_length_axis * a + a1_width_axis * a for a in [-1, 1]])\n",
    "    a2_corners = np.asarray([agent2['centroid'] + a2_length_axis * a + a2_width_axis * a for a in [-1, 1]])\n",
    "    \n",
    "    # convert corners into cartesian intervals\n",
    "    a1_max = np.maximum(*a1_corners)\n",
    "    a1_min = np.minimum(*a1_corners)\n",
    "    a2_max = np.maximum(*a2_corners)\n",
    "    a2_min = np.minimum(*a2_corners)\n",
    "    \n",
    "    # compute minkowski distance for rectangles\n",
    "    y = np.maximum(0, np.maximum(a1_min - a2_max, a2_min - a1_max))\n",
    "    \n",
    "    return np.sum(np.abs(y) ** 2, axis=-1) ** (1/2)"
   ]
  },
  {
   "cell_type": "code",
   "execution_count": 8,
   "metadata": {},
   "outputs": [
    {
     "data": {
      "text/plain": [
       "53.94792262705793"
      ]
     },
     "execution_count": 8,
     "metadata": {},
     "output_type": "execute_result"
    }
   ],
   "source": [
    "distance_from_center(agents[1], agents[5])"
   ]
  },
  {
   "cell_type": "code",
   "execution_count": 9,
   "metadata": {},
   "outputs": [
    {
     "data": {
      "text/plain": [
       "51.33004967277152"
      ]
     },
     "execution_count": 9,
     "metadata": {},
     "output_type": "execute_result"
    }
   ],
   "source": [
    "distance_from_edge(agents[1], agents[5])"
   ]
  },
  {
   "cell_type": "code",
   "execution_count": 10,
   "metadata": {},
   "outputs": [
    {
     "data": {
      "text/plain": [
       "{'frame_index_interval': array([24590, 24838]),\n",
       " 'host': 'host-a101',\n",
       " 'start_time': 1571844710505151232,\n",
       " 'end_time': 1571844735505151232}"
      ]
     },
     "execution_count": 10,
     "metadata": {},
     "output_type": "execute_result"
    }
   ],
   "source": [
    "# playing around with scene 0\n",
    "\n",
    "scene = scenes[99]\n",
    "scene"
   ]
  },
  {
   "cell_type": "code",
   "execution_count": 11,
   "metadata": {},
   "outputs": [],
   "source": [
    "# have this be numpy array from start\n",
    "data = []\n",
    "# dim 0 is frames, 1 agent\n",
    "\n",
    "fii = scene['frame_index_interval']\n",
    "for frame in frames[fii[0]: fii[1]]:\n",
    "    frame_data = np.array([[0,0,0,0,0]])\n",
    "    \n",
    "    aii = frame['agent_index_interval']\n",
    "    for agent in agents[aii[0]: aii[1]]:\n",
    "        # concatenate these three different features to one embedding\n",
    "        embedding = np.concatenate((agent['centroid'], agent['velocity'], [agent['yaw']]))\n",
    "        frame_data = np.append(frame_data, [embedding], axis=0)\n",
    "        \n",
    "    data.append(frame_data[1:])"
   ]
  },
  {
   "cell_type": "code",
   "execution_count": 12,
   "metadata": {},
   "outputs": [],
   "source": [
    "def normalize_frame(frame):\n",
    "    '''\n",
    "    Normalizes frame data generated above by applying (X - mean) / std\n",
    "    @param frame -\n",
    "    @return frame -\n",
    "    '''\n",
    "    ret = copy.deepcopy(frame)  # this is for safety, may not be neccesary\n",
    "    \n",
    "    means = frame.mean(axis=0)\n",
    "    stds = frame.std(axis=0)\n",
    "    \n",
    "    for i in range(len(means)):\n",
    "        # ensure no nans by replacing a column with zeros if std = 0\n",
    "        if stds[i] != 0:\n",
    "            ret[:, i] = (ret[:, i] - means[i]) / stds[i]\n",
    "        else:\n",
    "            ret[:, i] = np.zeros((len(frame)))\n",
    "\n",
    "    return ret\n",
    "\n",
    "def normalize_data(data):\n",
    "    '''\n",
    "    Copies and normalizes each frame in the data\n",
    "    @param data -\n",
    "    @return frame -\n",
    "    '''\n",
    "    # can also just define one new one of zeros\n",
    "    ret = copy.deepcopy(data)  # for safety, may not be neccesary\n",
    "    \n",
    "    for i, each in enumerate(data):\n",
    "        ret[i] = normalize_frame(each)\n",
    "    return ret"
   ]
  },
  {
   "cell_type": "code",
   "execution_count": 13,
   "metadata": {},
   "outputs": [],
   "source": [
    "n_data = normalize_data(data)"
   ]
  },
  {
   "cell_type": "code",
   "execution_count": 14,
   "metadata": {},
   "outputs": [],
   "source": [
    "frame = n_data[50]"
   ]
  },
  {
   "cell_type": "code",
   "execution_count": 62,
   "metadata": {},
   "outputs": [
    {
     "name": "stdout",
     "output_type": "stream",
     "text": [
      "number of clusters 8\n"
     ]
    }
   ],
   "source": [
    "from sklearn.cluster import MeanShift, estimate_bandwidth, KMeans\n",
    "\n",
    "bandwidth = estimate_bandwidth(frame, quantile=0.3, n_samples=len(frame))\n",
    "\n",
    "# ms = MeanShift(bandwidth=bandwidth, bin_seeding=True)\n",
    "ms = KMeans(n_clusters=8)\n",
    "\n",
    "ms.fit(frame)\n",
    "\n",
    "labels = ms.labels_\n",
    "cluster_centers = ms.cluster_centers_\n",
    "labels_unique = np.unique(labels)\n",
    "n_clusters_ = len(labels_unique)\n",
    "\n",
    "print(f\"number of clusters {n_clusters_}\")"
   ]
  },
  {
   "cell_type": "code",
   "execution_count": 63,
   "metadata": {},
   "outputs": [
    {
     "data": {
      "image/png": "[encoded data removed]",
      "text/plain": [
       "<Figure size 432x288 with 1 Axes>"
      ]
     },
     "metadata": {
      "needs_background": "light"
     },
     "output_type": "display_data"
    }
   ],
   "source": [
    "# index to change the data on the 'other axis'\n",
    "# vx -> 2, vy -> 3, yaw -> 4\n",
    "other = 4\n",
    "\n",
    "plt.figure(1)\n",
    "plt.clf()\n",
    "\n",
    "ax = plt.axes(projection=\"3d\")\n",
    "\n",
    "ax.set_xlabel('X pos')\n",
    "ax.set_ylabel('Y pos')\n",
    "ax.set_zlabel('Other')\n",
    "\n",
    "colors = cycle('bgrcmykbgrcmykbgrcmykbgrcmyk')\n",
    "for k, col in zip(range(n_clusters_), colors):\n",
    "    my_members = labels == k\n",
    "    cluster_center = cluster_centers[k]\n",
    "    ax.plot(frame[my_members, 0], frame[my_members, 1], frame[my_members, other], col + '.')\n",
    "    # ax.plot(cluster_center[0], cluster_center[1], cluster_center[3], 'o', markerfacecolor=col,\n",
    "    #          markeredgecolor='k', markersize=14)\n",
    "plt.title('Estimated number of clusters: %d' % n_clusters_)\n",
    "plt.show()"
   ]
  },
  {
   "cell_type": "code",
   "execution_count": 19,
   "metadata": {},
   "outputs": [
    {
     "data": {
      "text/plain": [
       "array([[ 3.58235046e+02, -5.55123291e+01, -1.09952250e+01,\n",
       "         1.25129728e+01,  2.30776381e+00],\n",
       "       [ 3.87154053e+02, -8.28742981e+01, -8.21484566e+00,\n",
       "         9.19958878e+00,  2.31166339e+00],\n",
       "       [ 3.45536896e+02, -3.64642487e+01, -7.72638226e+00,\n",
       "         8.71422577e+00,  2.31723905e+00],\n",
       "       [ 3.70141235e+02, -5.88342896e+01,  0.00000000e+00,\n",
       "         0.00000000e+00,  2.32262897e+00],\n",
       "       [ 3.96621063e+02, -1.09750710e+02,  0.00000000e+00,\n",
       "         0.00000000e+00,  2.32485032e+00],\n",
       "       [ 3.94982117e+02, -8.39682541e+01,  0.00000000e+00,\n",
       "         0.00000000e+00, -5.74089468e-01],\n",
       "       [ 4.01932373e+02, -9.19433289e+01,  0.00000000e+00,\n",
       "         0.00000000e+00, -5.19402564e-01],\n",
       "       [ 3.95769318e+02, -7.95026245e+01,  0.00000000e+00,\n",
       "         0.00000000e+00,  8.69374454e-01],\n",
       "       [ 4.08833191e+02, -9.96784592e+01,  0.00000000e+00,\n",
       "         0.00000000e+00, -6.61217570e-01],\n",
       "       [ 4.04801117e+02, -9.51160507e+01,  0.00000000e+00,\n",
       "         0.00000000e+00, -6.13854051e-01],\n",
       "       [ 4.08636047e+02, -9.68965302e+01,  0.00000000e+00,\n",
       "         0.00000000e+00,  7.25962460e-01],\n",
       "       [ 4.22029938e+02, -1.50488312e+02,  9.64838123e+00,\n",
       "        -1.09148598e+01, -8.34910154e-01],\n",
       "       [ 3.91168884e+02, -1.04650230e+02,  0.00000000e+00,\n",
       "         0.00000000e+00, -9.60522220e-02],\n",
       "       [ 3.86297485e+02, -9.94607773e+01,  0.00000000e+00,\n",
       "         0.00000000e+00,  9.24225450e-01],\n",
       "       [ 3.96986450e+02, -8.33246994e+01,  0.00000000e+00,\n",
       "         0.00000000e+00,  5.78694642e-01],\n",
       "       [ 3.86237762e+02, -1.02123299e+02,  0.00000000e+00,\n",
       "         0.00000000e+00,  2.65303874e+00],\n",
       "       [ 3.94261963e+02, -7.57492905e+01,  0.00000000e+00,\n",
       "         0.00000000e+00,  9.25478160e-01],\n",
       "       [ 3.92861664e+02, -7.36881790e+01,  0.00000000e+00,\n",
       "         0.00000000e+00,  9.94790554e-01],\n",
       "       [ 3.58150208e+02, -4.57444649e+01,  0.00000000e+00,\n",
       "         0.00000000e+00,  2.30632854e+00],\n",
       "       [ 3.68354218e+02, -7.96500473e+01,  0.00000000e+00,\n",
       "         0.00000000e+00,  3.15926939e-01],\n",
       "       [ 3.80261078e+02, -6.77026901e+01,  0.00000000e+00,\n",
       "         0.00000000e+00,  2.95866430e-01],\n",
       "       [ 4.42732849e+02, -1.33770844e+02,  2.50402898e-01,\n",
       "         7.02474594e-01,  2.35384536e+00],\n",
       "       [ 3.98996857e+02, -6.47124557e+01,  0.00000000e+00,\n",
       "         0.00000000e+00, -2.12248683e+00],\n",
       "       [ 3.64811768e+02, -7.45794525e+01,  0.00000000e+00,\n",
       "         0.00000000e+00, -4.71042603e-01],\n",
       "       [ 3.76011810e+02, -6.30226097e+01,  0.00000000e+00,\n",
       "         0.00000000e+00,  3.54081303e-01],\n",
       "       [ 3.99507416e+02, -6.77543488e+01,  0.00000000e+00,\n",
       "         0.00000000e+00, -4.81099159e-01],\n",
       "       [ 4.06997162e+02, -5.60876656e+01,  0.00000000e+00,\n",
       "         0.00000000e+00,  1.92159832e+00],\n",
       "       [ 4.06159821e+02, -5.24499092e+01,  0.00000000e+00,\n",
       "         0.00000000e+00,  1.03687799e+00],\n",
       "       [ 3.60359406e+02, -7.01072540e+01,  0.00000000e+00,\n",
       "         0.00000000e+00, -3.31669986e-01],\n",
       "       [ 3.83750641e+02, -6.82185898e+01,  0.00000000e+00,\n",
       "         0.00000000e+00, -8.56576979e-01],\n",
       "       [ 4.09981598e+02, -5.14618912e+01,  0.00000000e+00,\n",
       "         0.00000000e+00,  1.90542601e-02],\n",
       "       [ 3.68039368e+02, -1.03471626e+02,  0.00000000e+00,\n",
       "         0.00000000e+00,  5.37154138e-01],\n",
       "       [ 3.70192291e+02, -5.59844513e+01,  0.00000000e+00,\n",
       "         0.00000000e+00,  6.01514757e-01],\n",
       "       [ 3.54379883e+02, -6.40969086e+01,  0.00000000e+00,\n",
       "         0.00000000e+00,  4.94566560e-03],\n",
       "       [ 3.93093536e+02, -5.76984215e+01,  0.00000000e+00,\n",
       "         0.00000000e+00, -2.06580758e+00],\n",
       "       [ 4.00952881e+02, -6.55496674e+01,  0.00000000e+00,\n",
       "         0.00000000e+00,  5.61456442e-01],\n",
       "       [ 4.07782623e+02, -9.56037903e+01,  0.00000000e+00,\n",
       "         0.00000000e+00,  9.27661121e-01],\n",
       "       [ 4.09077789e+02, -1.30945541e+02,  9.87505627e+00,\n",
       "        -1.10328941e+01, -8.53305519e-01],\n",
       "       [ 3.36965302e+02, -6.49879990e+01, -6.82347000e-01,\n",
       "         9.50079858e-01, -8.47631335e-01],\n",
       "       [ 4.28411926e+02, -6.84394073e+01,  0.00000000e+00,\n",
       "         0.00000000e+00,  2.55843449e+00],\n",
       "       [ 4.06142303e+02, -9.36408615e+01,  0.00000000e+00,\n",
       "         0.00000000e+00, -7.00715244e-01],\n",
       "       [ 3.47065887e+02, -7.70071259e+01,  0.00000000e+00,\n",
       "         0.00000000e+00, -8.29694629e-01],\n",
       "       [ 3.42334686e+02, -7.18203201e+01,  0.00000000e+00,\n",
       "         0.00000000e+00, -8.85567129e-01],\n",
       "       [ 3.76173950e+02, -6.01189880e+01,  0.00000000e+00,\n",
       "         0.00000000e+00,  9.15367827e-02],\n",
       "       [ 3.51907166e+02, -8.25726089e+01,  0.00000000e+00,\n",
       "         0.00000000e+00, -7.69449830e-01],\n",
       "       [ 3.89714233e+02, -5.96735077e+01,  0.00000000e+00,\n",
       "         0.00000000e+00,  5.76710999e-01],\n",
       "       [ 4.00175232e+02, -4.84353752e+01,  2.28971932e-02,\n",
       "         1.37930615e-02,  4.46634114e-01],\n",
       "       [ 3.65755463e+02, -5.46675606e+01,  0.00000000e+00,\n",
       "         0.00000000e+00,  2.31800342e+00],\n",
       "       [ 4.01590759e+02, -4.90936737e+01, -7.83904791e-02,\n",
       "         2.89741568e-02,  6.20256245e-01],\n",
       "       [ 3.65913513e+02, -9.82552109e+01,  0.00000000e+00,\n",
       "         0.00000000e+00, -8.25111747e-01],\n",
       "       [ 4.05480164e+02, -5.14175682e+01,  0.00000000e+00,\n",
       "         0.00000000e+00,  1.21005797e+00],\n",
       "       [ 4.11127594e+02, -7.73957825e+01,  0.00000000e+00,\n",
       "         0.00000000e+00,  9.93329644e-01],\n",
       "       [ 3.95770569e+02, -8.22405624e+01,  0.00000000e+00,\n",
       "         0.00000000e+00,  1.08130360e+00],\n",
       "       [ 3.18051880e+02, -4.41142044e+01, -3.11556280e-01,\n",
       "         2.18173210e-02, -8.46670806e-01],\n",
       "       [ 3.80109406e+02, -6.21781082e+01,  0.00000000e+00,\n",
       "         0.00000000e+00,  1.08779097e+00],\n",
       "       [ 4.03966522e+02, -8.39453354e+01,  0.00000000e+00,\n",
       "         0.00000000e+00,  9.97874558e-01],\n",
       "       [ 3.47804138e+02, -7.22159729e+01,  1.24620314e+01,\n",
       "        -1.41479855e+01, -8.35118413e-01],\n",
       "       [ 3.35813110e+02, -2.06019878e+01,  0.00000000e+00,\n",
       "         0.00000000e+00,  2.29276133e+00],\n",
       "       [ 3.48809540e+02, -3.56559334e+01,  9.57959667e-02,\n",
       "        -3.64755809e-01,  2.31391597e+00],\n",
       "       [ 4.03859467e+02, -9.08277435e+01,  0.00000000e+00,\n",
       "         0.00000000e+00,  1.03351557e+00],\n",
       "       [ 3.74783783e+02, -5.82116928e+01,  0.00000000e+00,\n",
       "         0.00000000e+00,  7.06885219e-01],\n",
       "       [ 3.61301331e+02, -9.30988235e+01,  0.00000000e+00,\n",
       "         0.00000000e+00, -8.21025312e-01],\n",
       "       [ 3.68270935e+02, -4.97986870e+01,  0.00000000e+00,\n",
       "         0.00000000e+00,  1.25666392e+00],\n",
       "       [ 4.07582397e+02, -5.50135918e+01,  0.00000000e+00,\n",
       "         0.00000000e+00,  9.45795476e-01],\n",
       "       [ 3.23032837e+02, -5.01694489e+01,  3.67524773e-02,\n",
       "         2.73455828e-02, -8.75400782e-01],\n",
       "       [ 3.77716095e+02, -5.94784927e+01,  0.00000000e+00,\n",
       "         0.00000000e+00,  1.49228334e+00],\n",
       "       [ 3.92289764e+02, -7.84133530e+01,  0.00000000e+00,\n",
       "         0.00000000e+00,  9.41781282e-01],\n",
       "       [ 3.43987946e+02, -5.23226204e+01,  0.00000000e+00,\n",
       "         0.00000000e+00,  1.04024982e+00],\n",
       "       [ 3.70233978e+02, -5.11828194e+01, -1.44734442e-01,\n",
       "         3.56686622e-01,  4.74934965e-01],\n",
       "       [ 3.56769165e+02, -8.79142227e+01,  0.00000000e+00,\n",
       "         0.00000000e+00, -8.52096021e-01],\n",
       "       [ 3.27344025e+02, -5.50342064e+01,  9.98591334e-02,\n",
       "        -1.84592605e-01, -8.23311090e-01],\n",
       "       [ 3.82806335e+02, -9.47097702e+01,  0.00000000e+00,\n",
       "         0.00000000e+00,  7.24349558e-01],\n",
       "       [ 3.73523010e+02, -8.45548096e+01,  0.00000000e+00,\n",
       "         0.00000000e+00,  8.07107508e-01],\n",
       "       [ 3.51305847e+02, -8.75588608e+01,  0.00000000e+00,\n",
       "         0.00000000e+00,  7.32822835e-01],\n",
       "       [ 3.48363434e+02, -5.64351196e+01,  0.00000000e+00,\n",
       "         0.00000000e+00,  1.34733391e+00],\n",
       "       [ 3.29244019e+02, -5.12181053e+01,  1.33161163e+01,\n",
       "        -1.41246109e+01, -8.06185007e-01],\n",
       "       [ 3.83603271e+02, -9.91767883e+01,  0.00000000e+00,\n",
       "         0.00000000e+00,  1.68394840e+00],\n",
       "       [ 3.54038940e+02, -6.29262047e+01,  0.00000000e+00,\n",
       "         0.00000000e+00,  1.37959814e+00],\n",
       "       [ 3.96244263e+02, -7.76496048e+01,  0.00000000e+00,\n",
       "         0.00000000e+00,  1.17812407e+00],\n",
       "       [ 3.32343231e+02, -6.04420090e+01,  0.00000000e+00,\n",
       "         0.00000000e+00, -8.41740429e-01],\n",
       "       [ 3.72766754e+02, -5.53512802e+01,  0.00000000e+00,\n",
       "         0.00000000e+00,  1.40239477e+00],\n",
       "       [ 3.45545715e+02, -8.11709747e+01,  0.00000000e+00,\n",
       "         0.00000000e+00,  6.28345430e-01],\n",
       "       [ 3.57582458e+02, -4.23022270e+01,  0.00000000e+00,\n",
       "         0.00000000e+00,  5.49805582e-01],\n",
       "       [ 3.71518433e+02, -5.46768303e+01,  1.38987139e-01,\n",
       "         3.86902124e-01, -1.11923642e-01],\n",
       "       [ 4.10675476e+02, -5.06260414e+01,  1.45785213e-01,\n",
       "        -1.89115420e-01,  3.46036822e-01],\n",
       "       [ 3.56371460e+02, -9.32002106e+01,  0.00000000e+00,\n",
       "         0.00000000e+00,  7.20382333e-01],\n",
       "       [ 4.18420746e+02, -5.85911217e+01,  0.00000000e+00,\n",
       "         0.00000000e+00,  3.14186126e-01],\n",
       "       [ 4.21405609e+02, -7.52175140e+01,  0.00000000e+00,\n",
       "         0.00000000e+00,  1.00587583e+00],\n",
       "       [ 3.60578156e+02, -9.79968109e+01,  0.00000000e+00,\n",
       "         0.00000000e+00,  7.06885219e-01],\n",
       "       [ 3.39943420e+02, -7.48954468e+01,  0.00000000e+00,\n",
       "         0.00000000e+00,  7.85425007e-01],\n",
       "       [ 3.39712708e+02, -4.70629005e+01,  0.00000000e+00,\n",
       "         0.00000000e+00,  6.28345430e-01],\n",
       "       [ 3.51855286e+02, -3.57233887e+01,  0.00000000e+00,\n",
       "         0.00000000e+00,  6.28345430e-01],\n",
       "       [ 3.70689636e+02, -5.01178436e+01,  0.00000000e+00,\n",
       "         0.00000000e+00,  1.41374362e+00],\n",
       "       [ 3.99921692e+02, -4.40807991e+01,  0.00000000e+00,\n",
       "         0.00000000e+00,  3.92725945e-01],\n",
       "       [ 3.27709869e+02, -4.57257729e+01,  5.63211918e+00,\n",
       "        -1.59921293e+01, -8.19706023e-01],\n",
       "       [ 4.68338043e+02, -1.89002380e+02,  0.00000000e+00,\n",
       "         0.00000000e+00,  2.29256701e+00],\n",
       "       [ 3.54482086e+02, -6.12581482e+01,  0.00000000e+00,\n",
       "         0.00000000e+00,  8.63964856e-01],\n",
       "       [ 3.44904602e+02, -5.26503677e+01,  0.00000000e+00,\n",
       "         0.00000000e+00,  9.42504644e-01],\n",
       "       [ 4.04992279e+02, -3.61889763e+01,  0.00000000e+00,\n",
       "         0.00000000e+00,  9.42504644e-01],\n",
       "       [ 3.98386139e+02, -4.71845818e+01,  0.00000000e+00,\n",
       "         0.00000000e+00,  1.41374362e+00],\n",
       "       [ 4.03699219e+02, -4.27776604e+01,  0.00000000e+00,\n",
       "         0.00000000e+00, -2.23306489e+00],\n",
       "       [ 3.01645569e+02, -2.61163902e+01,  0.00000000e+00,\n",
       "         0.00000000e+00, -7.31417120e-01],\n",
       "       [ 2.88970734e+02, -1.21049223e+01,  0.00000000e+00,\n",
       "         0.00000000e+00, -8.46637130e-01],\n",
       "       [ 4.16215637e+02, -1.54928726e+02,  0.00000000e+00,\n",
       "         0.00000000e+00, -9.21309948e-01],\n",
       "       [ 3.33898987e+02, -6.82069092e+01,  0.00000000e+00,\n",
       "         0.00000000e+00,  7.85425007e-01],\n",
       "       [ 3.99127899e+02, -4.55274162e+01,  0.00000000e+00,\n",
       "         0.00000000e+00,  1.49228334e+00]])"
      ]
     },
     "execution_count": 19,
     "metadata": {},
     "output_type": "execute_result"
    }
   ],
   "source": [
    "data[50]"
   ]
  },
  {
   "cell_type": "code",
   "execution_count": null,
   "metadata": {},
   "outputs": [],
   "source": []
  }
 ],
 "metadata": {
  "kernelspec": {
   "display_name": "Python 3",
   "language": "python",
   "name": "python3"
  },
  "language_info": {
   "codemirror_mode": {
    "name": "ipython",
    "version": 3
   },
   "file_extension": ".py",
   "mimetype": "text/x-python",
   "name": "python",
   "nbconvert_exporter": "python",
   "pygments_lexer": "ipython3",
   "version": "3.8.5"
  }
 },
 "nbformat": 4,
 "nbformat_minor": 4
}
