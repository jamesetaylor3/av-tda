{
 "cells": [
  {
   "cell_type": "code",
   "execution_count": 1,
   "metadata": {},
   "outputs": [],
   "source": [
    "import numpy as np\n",
    "\n",
    "from l5kit.configs import load_config_data\n",
    "from l5kit.data import LocalDataManager, ChunkedDataset\n",
    "from l5kit.dataset import AgentDataset\n",
    "from l5kit.rasterization import build_rasterizer\n",
    "\n",
    "import os\n",
    "import copy\n",
    "from itertools import cycle, combinations\n",
    "\n",
    "import sys\n",
    "sys.path.append('../..')\n",
    "\n",
    "import backpack"
   ]
  },
  {
   "cell_type": "code",
   "execution_count": 2,
   "metadata": {},
   "outputs": [
    {
     "name": "stdout",
     "output_type": "stream",
     "text": [
      "{'format_version': 4, 'model_params': {'model_architecture': 'resnet50', 'history_num_frames': 0, 'history_step_size': 1, 'history_delta_time': 0.1, 'future_num_frames': 50, 'future_step_size': 1, 'future_delta_time': 0.1}, 'raster_params': {'raster_size': [224, 224], 'pixel_size': [0.5, 0.5], 'ego_center': [0.25, 0.5], 'map_type': 'py_semantic', 'satellite_map_key': 'aerial_map/aerial_map.png', 'semantic_map_key': 'semantic_map/semantic_map.pb', 'dataset_meta_key': 'meta.json', 'filter_agents_threshold': 0.5, 'disable_traffic_light_faces': False}, 'train_data_loader': {'key': 'scenes/sample.zarr', 'batch_size': 12, 'shuffle': True, 'num_workers': 16}, 'val_data_loader': {'key': 'scenes/sample.zarr', 'batch_size': 12, 'shuffle': False, 'num_workers': 16}, 'train_params': {'checkpoint_every_n_steps': 10000, 'max_num_steps': 5, 'eval_every_n_steps': 10000}}\n"
     ]
    }
   ],
   "source": [
    "os.environ['L5KIT_DATA_FOLDER'] = '../../dataset'\n",
    "dm = LocalDataManager(None)\n",
    "\n",
    "cfg = load_config_data('./config.yaml')\n",
    "print(cfg)"
   ]
  },
  {
   "cell_type": "code",
   "execution_count": 3,
   "metadata": {},
   "outputs": [],
   "source": [
    "train_cfg = cfg['train_data_loader']\n",
    "rasterizer = build_rasterizer(cfg, dm)\n",
    "train_zarr = ChunkedDataset(dm.require(train_cfg['key'])).open()"
   ]
  },
  {
   "cell_type": "code",
   "execution_count": 4,
   "metadata": {},
   "outputs": [],
   "source": [
    "def map_frame_array_to_dict(array):\n",
    "    return dict(zip(['timestamp', 'agent_index_interval', 'ego_translation', 'ego_rotation'], array))\n",
    "\n",
    "def map_scene_array_to_dict(array):\n",
    "    return dict(zip(['frame_index_interval', 'host', 'start_time', 'end_time'], array))\n",
    "\n",
    "def map_agent_array_to_dict(array):\n",
    "    return dict(zip(['centroid', 'extent', 'yaw', 'velocity', 'track_id', 'label_probabilities'], array))"
   ]
  },
  {
   "cell_type": "code",
   "execution_count": 5,
   "metadata": {},
   "outputs": [],
   "source": [
    "scenes = [map_scene_array_to_dict(s) for s in train_zarr.scenes]\n",
    "frames = [map_frame_array_to_dict(f) for f in train_zarr.frames]\n",
    "agents = [map_agent_array_to_dict(a) for a in train_zarr.agents]"
   ]
  },
  {
   "cell_type": "code",
   "execution_count": 6,
   "metadata": {},
   "outputs": [],
   "source": [
    "def distance_from_center(agent1, agent2):\n",
    "    '''\n",
    "    Calculates the distance between the centroids of two agents\n",
    "    @param agent1 - AgentDataset dictionary that represents first agent\n",
    "    @param agent2 - AgentDataset dictionary that represents second agent\n",
    "    @return - numpy float distance between the two agents' centroids\n",
    "    '''\n",
    "    return np.linalg.norm(agent1['centroid'] - agent2['centroid'])"
   ]
  },
  {
   "cell_type": "code",
   "execution_count": 7,
   "metadata": {},
   "outputs": [],
   "source": [
    "def distance_from_edge(agent1, agent2):\n",
    "    '''\n",
    "    Calculates the distance between the closest edges of two agents\n",
    "    @param agent1 - AgentDataset dictionary that represents first agent\n",
    "    @param agent2 - AgentDataset dictionary that represents second agent\n",
    "    @return - numpy float distance between two agents' closest edges\n",
    "    '''\n",
    "        \n",
    "    # generate orthogonal axes for each agent\n",
    "    a1_length_axis = agent1['extent'][1] / 2 * np.asarray([np.cos(agent1['yaw']), np.sin(agent1['yaw'])])\n",
    "    a1_width_axis  = agent1['extent'][0] / 2 * np.asarray([np.sin(agent1['yaw']), np.cos(agent1['yaw'])])\n",
    "    a2_length_axis = agent2['extent'][1] / 2 * np.asarray([np.cos(agent2['yaw']), np.sin(agent2['yaw'])])\n",
    "    a2_width_axis  = agent2['extent'][0] / 2 * np.asarray([np.sin(agent2['yaw']), np.cos(agent2['yaw'])])\n",
    "        \n",
    "    # find two opposite corners of rectangles\n",
    "    a1_corners = np.asarray([agent1['centroid'] + a1_length_axis * a + a1_width_axis * a for a in [-1, 1]])\n",
    "    a2_corners = np.asarray([agent2['centroid'] + a2_length_axis * a + a2_width_axis * a for a in [-1, 1]])\n",
    "    \n",
    "    # convert corners into cartesian intervals\n",
    "    a1_max = np.maximum(*a1_corners)\n",
    "    a1_min = np.minimum(*a1_corners)\n",
    "    a2_max = np.maximum(*a2_corners)\n",
    "    a2_min = np.minimum(*a2_corners)\n",
    "    \n",
    "    # compute minkowski distance for rectangles\n",
    "    y = np.maximum(0, np.maximum(a1_min - a2_max, a2_min - a1_max))\n",
    "    \n",
    "    return np.sum(np.abs(y) ** 2, axis=-1) ** (1/2)"
   ]
  },
  {
   "cell_type": "code",
   "execution_count": 8,
   "metadata": {},
   "outputs": [
    {
     "data": {
      "text/plain": [
       "53.94792262705793"
      ]
     },
     "execution_count": 8,
     "metadata": {},
     "output_type": "execute_result"
    }
   ],
   "source": [
    "distance_from_center(agents[1], agents[5])"
   ]
  },
  {
   "cell_type": "code",
   "execution_count": 9,
   "metadata": {},
   "outputs": [
    {
     "data": {
      "text/plain": [
       "51.33004967277152"
      ]
     },
     "execution_count": 9,
     "metadata": {},
     "output_type": "execute_result"
    }
   ],
   "source": [
    "distance_from_edge(agents[1], agents[5])"
   ]
  },
  {
   "cell_type": "code",
   "execution_count": 10,
   "metadata": {},
   "outputs": [
    {
     "data": {
      "text/plain": [
       "{'frame_index_interval': array([24590, 24838]),\n",
       " 'host': 'host-a101',\n",
       " 'start_time': 1571844710505151232,\n",
       " 'end_time': 1571844735505151232}"
      ]
     },
     "execution_count": 10,
     "metadata": {},
     "output_type": "execute_result"
    }
   ],
   "source": [
    "# playing around with scene 99\n",
    "scene_i = 99\n",
    "scene = scenes[scene_i]\n",
    "scene"
   ]
  },
  {
   "cell_type": "code",
   "execution_count": null,
   "metadata": {},
   "outputs": [],
   "source": []
  },
  {
   "cell_type": "code",
   "execution_count": 11,
   "metadata": {},
   "outputs": [],
   "source": [
    "clusters = []\n",
    "\n",
    "fii = scene['frame_index_interval']\n",
    "for frame in frames[fii[0]: fii[1]]:\n",
    "    \n",
    "    c = backpack.Cluster(frame, agents)\n",
    "    c.normalize_data()\n",
    "    \n",
    "    clusters.append(c)"
   ]
  },
  {
   "cell_type": "code",
   "execution_count": 24,
   "metadata": {},
   "outputs": [
    {
     "data": {
      "image/png": "[encoded data removed]",
      "text/plain": [
       "<Figure size 432x288 with 1 Axes>"
      ]
     },
     "metadata": {
      "needs_background": "light"
     },
     "output_type": "display_data"
    }
   ],
   "source": [
    "clusters[0].kmeans_cluster(n_clusters=6)\n",
    "clusters[0].plot()"
   ]
  },
  {
   "cell_type": "code",
   "execution_count": null,
   "metadata": {},
   "outputs": [],
   "source": [
    "# get the agent indices associated with each cluster\n",
    "\n",
    "cluster_to_indices = [None] * n_clusters_\n",
    "\n",
    "for i, label in enumerate(labels):\n",
    "    \n",
    "    # if we have not created the array at the index yet, do so\n",
    "    if not cluster_to_indices[label]:\n",
    "        cluster_to_indices[label] = []\n",
    "    \n",
    "    cluster_to_indices[label].append(i)"
   ]
  },
  {
   "cell_type": "code",
   "execution_count": null,
   "metadata": {},
   "outputs": [],
   "source": [
    "# maps a cluster / label index to a distance matrix for the agents in that cluster\n",
    "distance_matrices = []\n",
    "\n",
    "# find appropriate indices\n",
    "scene = scenes[scene_i]\n",
    "frame = frames[scene['frame_index_interval'][0] + frame_i]\n",
    "agent_baseline_index = frame['agent_index_interval'][0]\n",
    "\n",
    "for cluster in cluster_to_indices:\n",
    "    matrix = {}\n",
    "    # choose every possibility of two agents in a cluster\n",
    "    for comb in combinations(cluster, 2):\n",
    "        agent1_index = agent_baseline_index + comb[0]\n",
    "        agent2_index = agent_baseline_index + comb[1]\n",
    "        \n",
    "        agent1 = agents[agent1_index]\n",
    "        agent2 = agents[agent2_index]\n",
    "        \n",
    "        edge_distance = distance_from_edge(agent1, agent2)\n",
    "                \n",
    "        if comb[0] not in matrix:\n",
    "            matrix[comb[0]] = {}\n",
    "        if comb[1] not in matrix:\n",
    "            matrix[comb[1]] = {}\n",
    "        \n",
    "        matrix[comb[0]][comb[1]] = matrix[comb[1]][comb[0]] = edge_distance\n",
    "        \n",
    "    distance_matrices.append(matrix)"
   ]
  },
  {
   "cell_type": "code",
   "execution_count": null,
   "metadata": {},
   "outputs": [],
   "source": [
    "# this really needs better organization as the data goes on. must be easily attributed to a particular agent\n",
    "# at a particular timestamp. needs good organization with time"
   ]
  },
  {
   "cell_type": "code",
   "execution_count": null,
   "metadata": {},
   "outputs": [],
   "source": [
    "distance_matrices"
   ]
  },
  {
   "cell_type": "code",
   "execution_count": null,
   "metadata": {},
   "outputs": [],
   "source": []
  }
 ],
 "metadata": {
  "kernelspec": {
   "display_name": "Python 3",
   "language": "python",
   "name": "python3"
  },
  "language_info": {
   "codemirror_mode": {
    "name": "ipython",
    "version": 3
   },
   "file_extension": ".py",
   "mimetype": "text/x-python",
   "name": "python",
   "nbconvert_exporter": "python",
   "pygments_lexer": "ipython3",
   "version": "3.8.5"
  }
 },
 "nbformat": 4,
 "nbformat_minor": 4
}
